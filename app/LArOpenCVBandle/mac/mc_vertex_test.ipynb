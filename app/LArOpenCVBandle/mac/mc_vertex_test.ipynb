{
 "cells": [
  {
   "cell_type": "code",
   "execution_count": null,
   "metadata": {
    "collapsed": false
   },
   "outputs": [],
   "source": [
    "#!/usr/bin/env python\n",
    "import ROOT, sys, os\n",
    "from ROOT import std\n",
    "\n",
    "from larlite import larlite\n",
    "from larcv import larcv\n",
    "import numpy as np\n",
    "import matplotlib\n",
    "import matplotlib.pyplot as plt\n",
    "%matplotlib inline\n",
    "import matplotlib.path as path\n",
    "colormap=['blue','red','magenta','green','orange','yellow','pink']\n",
    "nc=len(colormap)"
   ]
  },
  {
   "cell_type": "code",
   "execution_count": null,
   "metadata": {
    "collapsed": false
   },
   "outputs": [],
   "source": [
    "iom=larcv.IOManager(larcv.IOManager.kBOTH)        \n",
    "iom.reset()\n",
    "iom.set_verbosity(0)                                                                          \n",
    "iom.add_in_file(\"/Users/vgenty/Desktop/mcc7_bnb_detsim_to_larcv_hires_v00_p00_out_0000.root\")\n",
    "iom.set_out_file(\"/tmp/trash.root\")\n",
    "iom.initialize()\n",
    "iom.read_entry(10)\n",
    "\n",
    "larbysimg=larcv.LArbysImage()\n",
    "cfg=larcv.CreatePSetFromFile(\"unit.fcl\",\"LArbysImage\")\n",
    "larbysimg.configure(cfg)\n",
    "larbysimg.initialize()"
   ]
  },
  {
   "cell_type": "code",
   "execution_count": null,
   "metadata": {
    "collapsed": false
   },
   "outputs": [],
   "source": [
    "fig,ax=plt.subplots(figsize=(20,20))\n",
    "\n",
    "img=iom.get_data(larcv.kProductImage2D,\"tpc\")\n",
    "\n",
    "im=larcv.as_ndarray(img.Image2DArray()[0])\n",
    "\n",
    "plt.imshow(np.where(im>10.0,1.0,0.0).astype(np.uint8),cmap='Greys',interpolation='None')\n",
    "\n",
    "nz_pixels=np.where(im>0.0)\n",
    "ax.set_ylim(np.min(nz_pixels[0])-10,np.max(nz_pixels[0])+10)\n",
    "ax.set_xlim(np.min(nz_pixels[1])-10,np.max(nz_pixels[1])+10)\n",
    "plt.show()"
   ]
  },
  {
   "cell_type": "code",
   "execution_count": null,
   "metadata": {
    "collapsed": false
   },
   "outputs": [],
   "source": [
    "larbysimg.process(iom)"
   ]
  },
  {
   "cell_type": "code",
   "execution_count": null,
   "metadata": {
    "collapsed": false
   },
   "outputs": [],
   "source": [
    "fig,ax=plt.subplots(figsize=(20,20))\n",
    "\n",
    "#Get the image\n",
    "shape_img=np.where(im>10.0,1.0,0.0).astype(np.uint8)\n",
    "shape_img[:,::-1]=shape_img\n",
    "plt.imshow(shape_img,cmap='Greys',interpolation='none')\n",
    "nz_pixels=np.where(shape_img>0.0)\n",
    "ax.set_ylim(np.min(nz_pixels[0])-10,np.max(nz_pixels[0])+10)\n",
    "ax.set_xlim(np.min(nz_pixels[1])-10,np.max(nz_pixels[1])+10)\n",
    "\n",
    "mgr=larbysimg.Manager()\n",
    "dm=mgr.DataManager()\n",
    "data=dm.Data(0)\n",
    "\n",
    "all_p0=data._all_ctors_v_v[0]\n",
    "\n",
    "for ctor in all_p0:\n",
    "    pts=np.array([[pt.x,pt.y] for pt in ctor])\n",
    "    plt.plot(pts[:,0],pts[:,1],'-o')\n",
    "\n",
    "ax.set_aspect(2.0)\n",
    "ax.set_title(\"ALL Contours\")\n",
    "plt.show()"
   ]
  },
  {
   "cell_type": "code",
   "execution_count": null,
   "metadata": {
    "collapsed": false
   },
   "outputs": [],
   "source": [
    "fig,ax=plt.subplots(figsize=(20,20))\n",
    "\n",
    "#Get the image\n",
    "shape_img=np.where(im>10.0,1.0,0.0).astype(np.uint8)\n",
    "shape_img[:,::-1]=shape_img\n",
    "plt.imshow(shape_img,cmap='Greys',interpolation='none')\n",
    "nz_pixels=np.where(shape_img>0.0)\n",
    "ax.set_ylim(np.min(nz_pixels[0])-10,np.max(nz_pixels[0])+10)\n",
    "ax.set_xlim(np.min(nz_pixels[1])-10,np.max(nz_pixels[1])+10)\n",
    "\n",
    "mgr=larbysimg.Manager()\n",
    "dm=mgr.DataManager()\n",
    "data=dm.Data(1)\n",
    "\n",
    "split_lines=data._split_line_v_v[0]\n",
    "\n",
    "for sline in split_lines:\n",
    "    ax.plot([0,900],[sline.y(0),sline.y(900)])\n",
    "\n",
    "atomic_p0=data._atomic_ctor_v_v[0]\n",
    "\n",
    "for atomic in atomic_p0:\n",
    "    pts=np.array([[pt.x,pt.y] for pt in atomic])\n",
    "    plt.plot(pts[:,0],pts[:,1],'-o')\n",
    "\n",
    "ax.set_aspect(2.0)\n",
    "ax.set_title(\"ALL Contours\")\n",
    "plt.show()"
   ]
  },
  {
   "cell_type": "code",
   "execution_count": null,
   "metadata": {
    "collapsed": false
   },
   "outputs": [],
   "source": [
    "fig,ax=plt.subplots(figsize=(20,20))\n",
    "shape_img=np.where(im>50.0,1.0,0.0).astype(np.uint8)\n",
    "shape_img[:,::-1]=shape_img\n",
    "plt.imshow(shape_img,cmap='Greys',interpolation='none')\n",
    "nz_pixels=np.where(shape_img>0.0)\n",
    "ax.set_ylim(np.min(nz_pixels[0])-10,np.max(nz_pixels[0])+10)\n",
    "ax.set_xlim(np.min(nz_pixels[1])-10,np.max(nz_pixels[1])+10)\n",
    "\n",
    "cv=larbysimg.Manager().GetClusterAlg(2)\n",
    "mgr=larbysimg.Manager()\n",
    "dm=mgr.DataManager()\n",
    "cv_data=dm.Data(2)\n",
    "\n",
    "cv_ctor_lines_v=cv_data._ctor_lines_v_v_v[0]\n",
    "cv_inter_pts_v=cv_data._ipoints_v_v_v[0]\n",
    "ix=-1\n",
    "\n",
    "for cv_ctor_lines in cv_ctor_lines_v:\n",
    "    \n",
    "    ix+=1\n",
    "    color=colormap[ix]\n",
    "    \n",
    "    for line in cv_ctor_lines:\n",
    "        plt.plot([0,900],[line.y(0),line.y(900)],alpha=0.7,color=color)\n",
    "\n",
    "    for inter_pt in cv_inter_pts_v[ix]:\n",
    "        plt.plot(inter_pt.x,inter_pt.y,'o',markersize=10,color=color,alpha=0.9)   \n",
    "        \n",
    "ax=plt.gca()\n",
    "plt.show()"
   ]
  },
  {
   "cell_type": "code",
   "execution_count": null,
   "metadata": {
    "collapsed": false
   },
   "outputs": [],
   "source": [
    "import matplotlib.patches as patches\n",
    "fig,ax=plt.subplots(figsize=(20,20))\n",
    "shape_img=np.where(im>10.0,1.0,0.0).astype(np.uint8)\n",
    "shape_img[:,::-1]=shape_img\n",
    "plt.imshow(shape_img,cmap='Greys',interpolation='none')\n",
    "nz_pixels=np.where(shape_img>0.0)\n",
    "ax.set_ylim(np.min(nz_pixels[0])-10,np.max(nz_pixels[0])+10)\n",
    "ax.set_xlim(np.min(nz_pixels[1])-10,np.max(nz_pixels[1])+10)\n",
    "\n",
    "ix=-1\n",
    "\n",
    "for cv_ctor_lines in cv_ctor_lines_v:\n",
    "    \n",
    "    ix+=1\n",
    "    color=colormap[ix]\n",
    "    for line in cv_ctor_lines:\n",
    "        plt.plot([0,900],[line.y(0),line.y(900)],alpha=0.7,color=color)\n",
    "        \n",
    "    for inter_pt in cv_inter_pts_v[ix]:\n",
    "        plt.plot(inter_pt.x,inter_pt.y,'o',markersize=10,color=color,alpha=0.9)   \n",
    "        \n",
    "\n",
    "cv=larbysimg.Manager().GetClusterAlg(3)\n",
    "mgr=larbysimg.Manager()\n",
    "dm=mgr.DataManager()\n",
    "cv_data=dm.Data(3)\n",
    "\n",
    "circledata_v=cv_data._circledata_v_v[0]\n",
    "       \n",
    "for circle in circledata_v:\n",
    "    c=patches.Circle((circle.center.x,circle.center.y),\n",
    "                  circle.radius,ec='cyan',fc='none',lw=10)\n",
    "    ax.add_patch(c)\n",
    "\n",
    "ax=plt.gca()\n",
    "ax.set_aspect(2.0)\n",
    "plt.show()"
   ]
  }
 ],
 "metadata": {
  "kernelspec": {
   "display_name": "Python 2",
   "language": "python",
   "name": "python2"
  },
  "language_info": {
   "codemirror_mode": {
    "name": "ipython",
    "version": 2
   },
   "file_extension": ".py",
   "mimetype": "text/x-python",
   "name": "python",
   "nbconvert_exporter": "python",
   "pygments_lexer": "ipython2",
   "version": "2.7.10"
  }
 },
 "nbformat": 4,
 "nbformat_minor": 0
}
