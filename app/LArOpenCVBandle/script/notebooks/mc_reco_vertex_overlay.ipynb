{
 "cells": [
  {
   "cell_type": "code",
   "execution_count": null,
   "metadata": {
    "collapsed": true
   },
   "outputs": [],
   "source": [
    "%matplotlib inline\n",
    "\n",
    "import ROOT, sys, os\n",
    "from ROOT import std\n",
    "\n",
    "from larcv import larcv\n",
    "from larlite import larlite as ll\n",
    "from larlite import larutil as lu\n",
    "\n",
    "import numpy as np\n",
    "import matplotlib\n",
    "import matplotlib.pyplot as plt\n",
    "import matplotlib.path as path\n",
    "import matplotlib.patches as patches\n",
    "\n",
    "from ROOT import geo2d,cv\n",
    "from ROOT.cv import Point_ as Vector\n",
    "DTYPE='float'\n",
    "\n",
    "import root_numpy as rn\n",
    "import pandas as pd\n",
    "\n",
    "geoh=lu.GeometryHelper.GetME()\n",
    "geo=lu.Geometry.GetME()\n",
    "larp=lu.LArProperties.GetME()\n",
    "pygeo = geo2d.PyDraw()"
   ]
  },
  {
   "cell_type": "code",
   "execution_count": null,
   "metadata": {
    "collapsed": false
   },
   "outputs": [],
   "source": [
    "reco_df = pd.DataFrame(rn.root2rec(\"../reco_ana.root\",treename='LArbysImageTree'))\n",
    "mc_df   = pd.DataFrame(rn.root2rec(\"../mc_ana.root\",treename='mctree'))"
   ]
  },
  {
   "cell_type": "code",
   "execution_count": null,
   "metadata": {
    "collapsed": false
   },
   "outputs": [],
   "source": [
    "iom=larcv.IOManager(larcv.IOManager.kBOTH)        \n",
    "iom.reset()\n",
    "iom.set_verbosity(0)                                                                          \n",
    "iom.add_in_file(\"/Users/vgenty/Desktop/out_0000_0099.root\")\n",
    "iom.set_out_file(\"/tmp/trash.root\")\n",
    "iom.initialize()\n",
    "\n",
    "larbysimg=larcv.LArbysImage()\n",
    "cfg=larcv.CreatePSetFromFile(\"empty.fcl\",\"LArbysImage\")\n",
    "larbysimg.configure(cfg)\n",
    "larbysimg.initialize()"
   ]
  },
  {
   "cell_type": "code",
   "execution_count": null,
   "metadata": {
    "collapsed": false
   },
   "outputs": [],
   "source": [
    "for entry in [0]:\n",
    "    iom.read_entry(entry)\n",
    "    larbysimg.process(iom)\n",
    "    mgr=larbysimg.Manager()\n",
    "    \n",
    "    img_v = []\n",
    "\n",
    "    fig,ax=plt.subplots(figsize=(20,20))\n",
    "    maxx=0;minx=9999\n",
    "    maxy=0;miny=9999\n",
    "    plane=0\n",
    "\n",
    "    caca_img=np.zeros((485, 485))\n",
    "\n",
    "    for mat in mgr.InputImages():\n",
    "\n",
    "        img_v.append(pygeo.image(mat))\n",
    "        shape_img=np.where(img_v[plane]>1.5,1.0,0.0).astype(np.uint8)\n",
    "\n",
    "        plane+=1\n",
    "\n",
    "        nz_pixels=np.where(shape_img>0.0)\n",
    "        \n",
    "        maxx=np.maximum(maxx,np.max(nz_pixels[1])+100)\n",
    "        minx=np.minimum(minx,np.min(nz_pixels[1])-100)\n",
    "\n",
    "        maxy=np.maximum(maxy,np.max(nz_pixels[0])+100)\n",
    "        miny=np.minimum(miny,np.min(nz_pixels[0])-100)\n",
    "\n",
    "        caca_img+=shape_img\n",
    "\n",
    "    caca_img=np.where(caca_img>0,1.0,0.0)\n",
    "\n",
    "    plt.imshow(caca_img,cmap='Greys',interpolation='none')\n",
    "         \n",
    "    for plane in xrange(3):\n",
    "        exec(\"x_v=reco_df.iloc[%d].circle_vtx_x%d_v\"%(entry,plane))\n",
    "        exec(\"y_v=reco_df.iloc[%d].circle_vtx_y%d_v\"%(entry,plane))\n",
    "\n",
    "        for x,y in zip(x_v,y_v):\n",
    "            plt.plot(x,y,'*',color='orange',markersize=20)\n",
    "        \n",
    "        w_v=mc_df.iloc[entry].vtx2d_w\n",
    "        t_v=mc_df.iloc[entry].vtx2d_t\n",
    "        \n",
    "        for w,t in zip(w_v,t_v):\n",
    "            plt.plot(t,w,'*',color='yellow',markersize=20)\n",
    "        \n",
    "    plt.show()"
   ]
  }
 ],
 "metadata": {
  "kernelspec": {
   "display_name": "Python 2",
   "language": "python",
   "name": "python2"
  },
  "language_info": {
   "codemirror_mode": {
    "name": "ipython",
    "version": 2
   },
   "file_extension": ".py",
   "mimetype": "text/x-python",
   "name": "python",
   "nbconvert_exporter": "python",
   "pygments_lexer": "ipython2",
   "version": "2.7.10"
  }
 },
 "nbformat": 4,
 "nbformat_minor": 0
}
