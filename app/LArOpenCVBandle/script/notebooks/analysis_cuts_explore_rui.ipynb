{
 "cells": [
  {
   "cell_type": "code",
   "execution_count": null,
   "metadata": {
    "collapsed": true
   },
   "outputs": [],
   "source": [
    "%matplotlib inline\n",
    "\n",
    "import ROOT, sys, os\n",
    "from ROOT import std\n",
    "\n",
    "from larcv import larcv\n",
    "from larlite import larlite as ll\n",
    "from larlite import larutil as lu\n",
    "\n",
    "import numpy as np\n",
    "import matplotlib\n",
    "import matplotlib.pyplot as plt\n",
    "import matplotlib.path as path\n",
    "import matplotlib.patches as patches\n",
    "\n",
    "from ROOT import geo2d,cv\n",
    "from ROOT.cv import Point_ as Vector\n",
    "DTYPE='float'\n",
    "\n",
    "import root_numpy as rn\n",
    "import pandas as pd\n",
    "\n",
    "geoh=lu.GeometryHelper.GetME()\n",
    "geo=lu.Geometry.GetME()\n",
    "larp=lu.LArProperties.GetME()\n",
    "pygeo = geo2d.PyDraw()\n",
    "\n",
    "matplotlib.rcParams['font.size']=20\n",
    "matplotlib.rcParams['font.family']='serif'"
   ]
  },
  {
   "cell_type": "code",
   "execution_count": null,
   "metadata": {
    "collapsed": false
   },
   "outputs": [],
   "source": [
    "INFILE=\"../all_reco.root\"\n",
    "\n",
    "reco_event_df = pd.DataFrame(rn.root2array(INFILE,treename='EventTree'))\n",
    "reco_event_df = reco_event_df.drop_duplicates(subset=['run','subrun','event'])\n",
    "\n",
    "reco_vtx3d_event_df = pd.DataFrame(rn.root2array(INFILE,treename='Vtx3DEventTree'))\n",
    "reco_vtx3d_event_df = reco_vtx3d_event_df.drop_duplicates(subset=['run','subrun','event'])\n",
    "\n",
    "reco_vtx3d_df = pd.DataFrame(rn.root2array(INFILE,treename='Vtx3DTree'))\n",
    "reco_vtx3d_df = reco_vtx3d_df.drop_duplicates(subset=['run','subrun','event','vtx3d_id'])\n",
    "\n",
    "#reco_particle_df = pd.DataFrame(rn.root2array(INFILE,treename='ParticleTree'))\n",
    "#reco_particle_df = reco_particle_df.drop_duplicates(subset=['run','subrun','event','vtx3d_id','plane_id'])\n",
    "\n",
    "reco_defect_df = pd.DataFrame(rn.root2array(INFILE,treename='DefectDefectTree'))\n",
    "reco_defect_df = reco_defect_df.drop_duplicates(subset=['run','subrun','event'])\n",
    "\n",
    "reco_cluster_event_df = pd.DataFrame(rn.root2array(INFILE, treename = 'ClusterEventTree'))\n",
    "reco_cluster_event_df = reco_cluster_event_df.drop_duplicates(subset=['run','subrun','event'])\n",
    "\n",
    "reco_cluster_plane_df = pd.DataFrame(rn.root2array(INFILE, treename = 'ClusterPlaneTree'))\n",
    "reco_cluster_plane_df = reco_cluster_plane_df.drop_duplicates(subset=['run','subrun','event','plane'])\n",
    "\n",
    "mc_df = pd.DataFrame(rn.root2array(INFILE,treename='mctree'))\n",
    "mc_df = mc_df.drop_duplicates(subset=['run','subrun','event'])\n",
    "\n",
    "signal_mc_df = mc_df[mc_df.signal==1].copy().reindex()\n",
    "back_mc_df   = mc_df[mc_df.signal==0].copy().reindex()\n",
    "# reco_vtx3d_event_more_than_one_df = reco_vtx3d_event_df[reco_vtx3d_event_df.n_vtx3d>0].copy().reindex()\n",
    "signal_reco_vtx3d_event_df = reco_vtx3d_event_df[mc_df.signal==1].copy().reindex()\n",
    "back_reco_vtx3d_event_df   = reco_vtx3d_event_df[mc_df.signal==0].copy().reindex()\n",
    "\n",
    "print signal_mc_df.index.size\n",
    "print back_mc_df.index.size\n",
    "#print reco_vtx3d_event_more_than_one_df.index.size\n",
    "print signal_reco_vtx3d_event_df.index.size\n",
    "print back_reco_vtx3d_event_df.index.size\n"
   ]
  },
  {
   "cell_type": "code",
   "execution_count": null,
   "metadata": {
    "collapsed": false
   },
   "outputs": [],
   "source": [
    "# signal_mc_reco_df = signal_mc_df[signal_reco_vtx3d_event_df.n_vtx3d>=1].copy()\n",
    "# back_mc_reco_df   = back_mc_df[back_reco_vtx3d_event_df.n_vtx3d>=1].copy()\n",
    "\n",
    "# # print signal_mc_df.index.size\n",
    "# # signal_mc_df.head(3)\n",
    "# # signal_reco_vtx3d_event_df = reco_vtx3d_event_df[signal_mc_df.signal==1].copy().reindex()\n",
    "# # print sig_reco_3dvtx_event_df.index.size\n",
    "\n",
    "# print signal_mc_df.index.size\n",
    "# print back_mc_df.index.size\n",
    "# print signal_mc_reco_df.index.size\n",
    "# print back_mc_reco_df.index.size"
   ]
  },
  {
   "cell_type": "code",
   "execution_count": null,
   "metadata": {
    "collapsed": false,
    "scrolled": true
   },
   "outputs": [],
   "source": [
    "signal_mc_reco_df = signal_mc_df[signal_reco_vtx3d_event_df.n_vtx3d==1].copy()\n",
    "back_mc_reco_df   = back_mc_df[back_reco_vtx3d_event_df.n_vtx3d==1].copy()\n",
    "\n",
    "# print signal_mc_df.index.size\n",
    "# signal_mc_df.head(3)\n",
    "# signal_reco_vtx3d_event_df = reco_vtx3d_event_df[signal_mc_df.signal==1].copy().reindex()\n",
    "# print sig_reco_3dvtx_event_df.index.size\n",
    "\n",
    "print signal_mc_df.index.size\n",
    "print back_mc_df.index.size\n",
    "print signal_mc_reco_df.index.size\n",
    "print back_mc_reco_df.index.size"
   ]
  },
  {
   "cell_type": "code",
   "execution_count": null,
   "metadata": {
    "collapsed": false
   },
   "outputs": [],
   "source": [
    "signal_mc_reco_df.head()"
   ]
  },
  {
   "cell_type": "code",
   "execution_count": null,
   "metadata": {
    "collapsed": true
   },
   "outputs": [],
   "source": [
    "# check if there is a good vertex or not\n",
    "def correct(reco_vtx3d_,group_,chosen_idx_):\n",
    "\n",
    "    ### use projected vertex\n",
    "    \n",
    "    # recox = reco_vtx3d_.vtx2d_x_v.values[chosen_idx_]\n",
    "    # recoy = reco_vtx3d_.vtx2d_y_v.values[chosen_idx_]\n",
    "\n",
    "    ### use circle vertex\n",
    "    \n",
    "    recox = reco_vtx3d_.circle_vtx_x_v.values[chosen_idx_]\n",
    "    recoy = reco_vtx3d_.circle_vtx_y_v.values[chosen_idx_]\n",
    "    \n",
    "    mcx = group_.vtx2d_t.values[0]\n",
    "    mcy = group_.vtx2d_w.values[0]\n",
    "    \n",
    "    dist=np.sqrt(np.power(recox-mcx,2)+np.power(recoy-mcy,2))\n",
    "\n",
    "    dist.sort()\n",
    "\n",
    "    dist0_b = False\n",
    "    dist1_b = False\n",
    "    \n",
    "    if dist[0] <=7 : dist0_b = True\n",
    "    if dist[1] <=7 : dist1_b = True\n",
    "    \n",
    "    return (dist0_b==True and dist1_b==True)\n",
    "    \n",
    "\n",
    "def do_selection(mc_sdf,reco_event_df,reco_vtx3d_df):\n",
    "\n",
    "    selected = []\n",
    "\n",
    "    mc_gdf  = mc_sdf.set_index(['run','subrun','event'])\n",
    "    groups_ = mc_gdf.groupby(mc_gdf.index)\n",
    "    \n",
    "    for name, group in groups_:\n",
    "\n",
    "        nvtx_b  = False\n",
    "        close_b = False\n",
    "\n",
    "        query_='run=={}&subrun=={}&event=={}'.format(name[0],name[1],name[2])\n",
    "        \n",
    "        reco_event = reco_event_df.query(query_)\n",
    "\n",
    "        if reco_event.n_vtx3d.values ==1: \n",
    "            nvtx_b = True\n",
    "        \n",
    "        if nvtx_b == False: \n",
    "            continue\n",
    "            \n",
    "        reco_vtx3d = reco_vtx3d_df.query(query_)\n",
    "\n",
    "        if ( reco_event.n_vtx3d.values != reco_vtx3d.vtx3d_id.size ):\n",
    "            pass\n",
    "            # print query_\n",
    "\n",
    "        good_reco = False\n",
    "        for idx_ in xrange(reco_event.n_vtx3d):\n",
    "\n",
    "            if good_reco==True : break\n",
    "            good_reco = correct(reco_vtx3d,group,idx_)\n",
    "\n",
    "        if good_reco==True: \n",
    "            close_b=True\n",
    "\n",
    "        if nvtx_b==True and close_b==True:\n",
    "            selected.append(mc_sdf.query(query_).index.values[0])\n",
    "\n",
    "    return np.array(selected)"
   ]
  },
  {
   "cell_type": "markdown",
   "metadata": {},
   "source": [
    "# Reconstruction Efficiency on Signal"
   ]
  },
  {
   "cell_type": "code",
   "execution_count": null,
   "metadata": {
    "collapsed": false,
    "scrolled": true
   },
   "outputs": [],
   "source": [
    "mc_df=signal_mc_df\n",
    "#mc_df=back_mc_df\n",
    "n_reco_v = do_selection(mc_df,reco_vtx3d_event_df,reco_vtx3d_df)\n",
    "print \"Reco Efficiency is \", n_reco_v.size,\"/\",mc_df.index.size,\"= \",float(n_reco_v.size)/float(mc_df.index.size)"
   ]
  },
  {
   "cell_type": "code",
   "execution_count": null,
   "metadata": {
    "collapsed": false
   },
   "outputs": [],
   "source": [
    "mc_df=back_mc_df\n",
    "#mc_df=back_mc_df\n",
    "n_reco_v = do_selection(mc_df,reco_vtx3d_event_df,reco_vtx3d_df)\n",
    "print \"Reco Efficiency is \", n_reco_v.size,\"/\",mc_df.index.size,\"= \",float(n_reco_v.size)/float(mc_df.index.size)\n",
    "print n_reco_v"
   ]
  },
  {
   "cell_type": "code",
   "execution_count": null,
   "metadata": {
    "collapsed": false
   },
   "outputs": [],
   "source": [
    "mc_df=signal_mc_df\n",
    "#mc_df=back_mc_df\n",
    "n_reco_v = do_selection(mc_df,reco_vtx3d_event_df,reco_vtx3d_df)\n",
    "print \"Reco Efficiency is \", n_reco_v.size,\"/\",mc_df.index.size,\"= \",float(n_reco_v.size)/float(mc_df.index.size)\n",
    "print n_reco_v"
   ]
  },
  {
   "cell_type": "markdown",
   "metadata": {},
   "source": [
    "# Reconstruction Efficiency on Background"
   ]
  },
  {
   "cell_type": "code",
   "execution_count": null,
   "metadata": {
    "collapsed": false
   },
   "outputs": [],
   "source": [
    "mc_df=back_mc_df\n",
    "#mc_df=back_mc_df\n",
    "n_reco_v = do_selection(mc_df,reco_vtx3d_event_df,reco_vtx3d_df)\n",
    "print \"Reco Efficiency is \", n_reco_v.size,\"/\",mc_df.index.size,\"= \",float(n_reco_v.size)/float(mc_df.index.size)\n",
    "print n_reco_v"
   ]
  },
  {
   "cell_type": "code",
   "execution_count": null,
   "metadata": {
    "collapsed": false
   },
   "outputs": [],
   "source": [
    "# Index by run,subrun,event\n",
    "index_=['run','subrun','event']\n",
    "\n",
    "#Signal dataframes\n",
    "# sig_event_df    = reco_event_df.copy()\n",
    "# sig_vtx3d_df    = reco_vtx3d_df.copy()\n",
    "# sig_particle_df = reco_particle_df.copy()\n",
    "sig_defect_df        = reco_defect_df.copy()\n",
    "sig_cluster_event_df = reco_cluster_event_df.copy()\n",
    "sig_cluster_plane_df = reco_cluster_plane_df.copy()\n",
    "   \n",
    "sig_mc_df       = signal_mc_reco_df.set_index(index_)\n",
    "# sig_event_df    = sig_event_df.set_index(index_)\n",
    "# sig_vtx3d_df    = sig_vtx3d_df.set_index(index_)\n",
    "# sig_particle_df = sig_particle_df.set_index(index_)\n",
    "sig_defect_df        = sig_defect_df.set_index(index_)\n",
    "sig_cluster_event_df = sig_cluster_event_df.set_index(index_)\n",
    "sig_cluster_plane_df = sig_cluster_plane_df.set_index(index_)\n",
    "\n",
    "# sig_event_df    = sig_event_df.ix[sig_mc_df.index]\n",
    "# sig_vtx3d_df    = sig_vtx3d_df.ix[sig_mc_df.index]\n",
    "# sig_particle_df = sig_particle_df.ix[sig_mc_df.index]\n",
    "sig_defect_df        = sig_defect_df.ix[sig_mc_df.index]\n",
    "sig_cluster_event_df = sig_cluster_event_df.ix[sig_mc_df.index]\n",
    "sig_cluster_plane_df = sig_cluster_plane_df.ix[sig_mc_df.index]\n",
    "print sig_cluster_event_df.index.size\n",
    "#Background dataframes\n",
    "# bak_event_df    = reco_event_df.copy()\n",
    "# bak_vtx3d_df    = reco_vtx3d_df.copy()\n",
    "# bak_particle_df = reco_particle_df.copy()\n",
    "bak_defect_df        = reco_defect_df.copy()\n",
    "bak_cluster_event_df = reco_cluster_event_df.copy()\n",
    "bak_cluster_plane_df = reco_cluster_plane_df.copy()\n",
    "\n",
    "bak_mc_df            = back_mc_reco_df.set_index(index_)\n",
    "# bak_event_df    = bak_event_df.set_index(index_)\n",
    "# bak_vtx3d_df    = bak_vtx3d_df.set_index(index_)\n",
    "# bak_particle_df = bak_particle_df.set_index(index_)\n",
    "bak_defect_df        = bak_defect_df.set_index(index_)\n",
    "bak_cluster_event_df = bak_cluster_event_df.set_index(index_)\n",
    "bak_cluster_plane_df = bak_cluster_plane_df.set_index(index_)\n",
    "\n",
    "print bak_mc_df.index.size\n",
    "# bak_event_df    = bak_event_df.ix[bak_mc_df.index]\n",
    "# bak_vtx3d_df    = bak_vtx3d_df.ix[bak_mc_df.index]\n",
    "# bak_particle_df = bak_particle_df.ix[bak_mc_df.index]\n",
    "bak_defect_df        = bak_defect_df.ix[bak_mc_df.index]\n",
    "bak_cluster_event_df = bak_cluster_event_df.ix[bak_mc_df.index]\n",
    "bak_cluster_plane_df = bak_cluster_plane_df.ix[bak_mc_df.index]\n"
   ]
  },
  {
   "cell_type": "code",
   "execution_count": null,
   "metadata": {
    "collapsed": false,
    "scrolled": true
   },
   "outputs": [],
   "source": [
    "plt.figure()\n",
    "plt.hist2d(np.nan_to_num(sig_mc_df.dep_sum_proton.values), \n",
    "           np.nan_to_num(sig_cluster_event_df.avg_long_hip_length.values),\n",
    "          bins = (np.arange(60,300,4),np.arange(1,60,1)))\n",
    "plt.title(\"Sig Proton, AVG HIP Len : E_DEP\",fontsize = 15)\n",
    "plt.show()\n",
    "\n",
    "plt.figure()\n",
    "plt.hist2d(np.nan_to_num(bak_mc_df.dep_sum_proton.values), \n",
    "           np.nan_to_num(bak_cluster_event_df.avg_long_hip_length.values),\n",
    "          bins = (np.arange(60,300,4),np.arange(1,60,1)))\n",
    "plt.title(\"BAK Proton, AVG HIP Len : E_DEP\",fontsize = 15)\n",
    "plt.show()"
   ]
  },
  {
   "cell_type": "code",
   "execution_count": null,
   "metadata": {
    "collapsed": false,
    "scrolled": true
   },
   "outputs": [],
   "source": [
    "plt.figure()\n",
    "plt.hist2d(np.nan_to_num(sig_mc_df.dep_sum_lepton.values), \n",
    "           np.nan_to_num(sig_cluster_event_df.avg_long_mip_length.values),\n",
    "          bins = (np.arange(0,500,10),np.arange(1,400,5)))\n",
    "plt.title(\"Sig Lepton, AVG mip Len : E_DEP\",fontsize = 15)\n",
    "plt.show()\n",
    "\n",
    "plt.figure()\n",
    "plt.hist2d(np.nan_to_num(bak_mc_df.dep_sum_lepton.values), \n",
    "           np.nan_to_num(bak_cluster_event_df.avg_long_mip_length.values),\n",
    "          bins = (np.arange(0,500,10),np.arange(1,400,5)))\n",
    "plt.title(\"BAK Lepton, AVG mip Len : E_DEP\",fontsize = 15)\n",
    "plt.show()"
   ]
  },
  {
   "cell_type": "code",
   "execution_count": null,
   "metadata": {
    "collapsed": false
   },
   "outputs": [],
   "source": [
    "sig_mc_df.columns"
   ]
  },
  {
   "cell_type": "code",
   "execution_count": null,
   "metadata": {
    "collapsed": false,
    "scrolled": true
   },
   "outputs": [],
   "source": [
    "for x in xrange(3):                                                                       \n",
    "    plt.figure()\n",
    "    plt.hist2d(np.nan_to_num(sig_mc_df.daughterLength_vv.str[x].str[1].values), \n",
    "               np.nan_to_num(sig_cluster_plane_df.query('plane==@x').long_hip_length.values),\n",
    "              bins = (np.arange(1,50,1),np.arange(1,50,1)))\n",
    "    plt.title(\"Sig, MC Proton Len : Long HIP Len, @plane %i\"%x,fontsize = 15)\n",
    "    plt.show()\n",
    "\n",
    "for x in xrange(3):                                                                       \n",
    "    plt.figure()\n",
    "    plt.hist2d(np.nan_to_num(bak_mc_df.daughterLength_vv.str[x].str[1].values), \n",
    "               np.nan_to_num(bak_cluster_plane_df.query('plane==@x').long_hip_length.values),\n",
    "              bins = (np.arange(1,50,1),np.arange(1,50,1)))\n",
    "    plt.title(\"BAK, MC Proton Len : Long HIP Len, @plane %i\"%x,fontsize = 15)\n",
    "    plt.show()"
   ]
  },
  {
   "cell_type": "code",
   "execution_count": null,
   "metadata": {
    "collapsed": true
   },
   "outputs": [],
   "source": []
  },
  {
   "cell_type": "code",
   "execution_count": null,
   "metadata": {
    "collapsed": true
   },
   "outputs": [],
   "source": []
  },
  {
   "cell_type": "code",
   "execution_count": null,
   "metadata": {
    "collapsed": true
   },
   "outputs": [],
   "source": []
  },
  {
   "cell_type": "code",
   "execution_count": null,
   "metadata": {
    "collapsed": false
   },
   "outputs": [],
   "source": [
    "plt.hist(np.nan_to_num(bak_defect_df.defect_dist/bak_defect_df.defect_dist_start_end), \n",
    "        color='blue', alpha=0.8, bins=np.arange(0.01,0.4,0.005),normed = True)\n",
    "plt.hist(np.nan_to_num(sig_defect_df.defect_dist/sig_defect_df.defect_dist_start_end), \n",
    "        color='red',  alpha=0.8, bins=np.arange(0.01,0.4,0.005),normed = True)\n",
    "plt.title('dist ratio')\n",
    "plt.plot()"
   ]
  },
  {
   "cell_type": "code",
   "execution_count": null,
   "metadata": {
    "collapsed": false
   },
   "outputs": [],
   "source": [
    "# plt.hist(np.nan_to_num(bak_defect_df.defect_dist), \n",
    "#         color='blue', alpha=0.8, bins=np.arange(0,300,5),normed=True)\n",
    "# plt.hist(np.nan_to_num(bak_defect_df.defect_dist_start_end), \n",
    "#         color='red', alpha=0.8, bins=np.arange(0,300,5),normed=True)\n",
    "# plt.plot()"
   ]
  },
  {
   "cell_type": "code",
   "execution_count": null,
   "metadata": {
    "collapsed": false
   },
   "outputs": [],
   "source": [
    "# plt.hist(np.nan_to_num(sig_defect_df.defect_dist), \n",
    "#         color='blue', alpha=0.8, bins=np.arange(0,300,5),normed=True)\n",
    "# plt.hist(np.nan_to_num(sig_defect_df.defect_dist_start_end), \n",
    "#         color='red', alpha=0.8, bins=np.arange(0,300,5),normed=True)\n",
    "# plt.plot()"
   ]
  },
  {
   "cell_type": "code",
   "execution_count": null,
   "metadata": {
    "collapsed": false
   },
   "outputs": [],
   "source": [
    "plt.hist(np.nan_to_num(bak_defect_df.defect_dist), \n",
    "        color='blue', alpha=0.8, bins=np.arange(1,80,2),normed=True)\n",
    "plt.hist(np.nan_to_num(sig_defect_df.defect_dist), \n",
    "        color='red', alpha=0.8, bins=np.arange(1,80,2),normed=True)\n",
    "plt.title(\"defect dist\")\n",
    "plt.plot()"
   ]
  },
  {
   "cell_type": "code",
   "execution_count": null,
   "metadata": {
    "collapsed": false
   },
   "outputs": [],
   "source": [
    "plt.hist(np.nan_to_num(bak_defect_df.defect_dist_start_end), \n",
    "        color='blue', alpha=0.8, bins=np.arange(1,500,20),normed=True)\n",
    "plt.hist(np.nan_to_num(sig_defect_df.defect_dist_start_end), \n",
    "        color='red', alpha=0.8, bins=np.arange(1,500,20),normed=True)\n",
    "plt.title(\"defect dist start2end(long side)\",fontsize = 15)\n",
    "plt.plot()"
   ]
  },
  {
   "cell_type": "code",
   "execution_count": null,
   "metadata": {
    "collapsed": false
   },
   "outputs": [],
   "source": [
    "plt.hist(np.nan_to_num(bak_cluster_event_df.avg_long_hip_length), \n",
    "        color='blue', alpha=0.8, bins=np.arange(0,60,1),normed = True)\n",
    "plt.hist(np.nan_to_num(sig_cluster_event_df.avg_long_hip_length), \n",
    "        color='red', alpha=0.8, bins=np.arange(0,60,1),normed = True)\n",
    "plt.title(\"avg longest hip length\")\n",
    "plt.plot()"
   ]
  },
  {
   "cell_type": "code",
   "execution_count": null,
   "metadata": {
    "collapsed": false
   },
   "outputs": [],
   "source": [
    "plt.hist(np.nan_to_num(bak_cluster_event_df.avg_long_mip_length), \n",
    "        color='blue', alpha=0.8, bins=np.arange(4,500,20),normed = True)\n",
    "plt.hist(np.nan_to_num(sig_cluster_event_df.avg_long_mip_length), \n",
    "        color='red', alpha=0.8, bins=np.arange(4,500,20),normed = True)\n",
    "plt.title(\"avg longest mip length\")\n",
    "plt.plot()"
   ]
  },
  {
   "cell_type": "code",
   "execution_count": null,
   "metadata": {
    "collapsed": false
   },
   "outputs": [],
   "source": [
    "plt.hist(np.nan_to_num(bak_cluster_event_df.avg_long_hip_width), \n",
    "        color='blue', alpha=0.8, bins=np.arange(0,20,0.5),normed = True)\n",
    "plt.hist(np.nan_to_num(sig_cluster_event_df.avg_long_hip_width), \n",
    "        color='red', alpha=0.8, bins=np.arange(0,20,0.5),normed = True)\n",
    "plt.title(\"avg longest hip width\")\n",
    "plt.plot()"
   ]
  },
  {
   "cell_type": "code",
   "execution_count": null,
   "metadata": {
    "collapsed": false
   },
   "outputs": [],
   "source": [
    "plt.hist(np.nan_to_num(bak_cluster_event_df.avg_long_mip_width), \n",
    "        color='blue', alpha=0.8, bins=np.arange(0,25,1),normed = True)\n",
    "plt.hist(np.nan_to_num(sig_cluster_event_df.avg_long_mip_width), \n",
    "        color='red', alpha=0.8, bins=np.arange(0,25,1),normed = True)\n",
    "plt.title(\"avg longest mip width\")\n",
    "plt.plot()"
   ]
  },
  {
   "cell_type": "code",
   "execution_count": null,
   "metadata": {
    "collapsed": false,
    "scrolled": false
   },
   "outputs": [],
   "source": [
    "plt.figure()\n",
    "plt.hist(np.nan_to_num(bak_cluster_event_df.avg_long_hip_qsum),\n",
    "        color='blue', alpha=0.8, bins=np.arange(0,8000,300),normed = True)\n",
    "plt.hist(np.nan_to_num(sig_cluster_event_df.avg_long_hip_qsum), \n",
    "        color='red', alpha=0.8, bins=np.arange(0,8000,300),normed = True)\n",
    "plt.title(\"avg longest hip qsum, (incluing zeros)\",fontsize =15)\n",
    "plt.xticks(rotation='vertical')\n",
    "plt.plot()\n",
    "\n",
    "plt.figure()\n",
    "plt.hist(np.nan_to_num(bak_cluster_event_df.avg_long_hip_qsum),\n",
    "        color='blue', alpha=0.8, bins=np.arange(1,8000,300),normed = True)\n",
    "plt.hist(np.nan_to_num(sig_cluster_event_df.avg_long_hip_qsum), \n",
    "        color='red', alpha=0.8, bins=np.arange(1,8000,300),normed = True)\n",
    "plt.title(\"avg longest hip qsum, (excluing zeros)\", fontsize=15)\n",
    "plt.xticks(rotation='vertical')\n",
    "plt.plot()"
   ]
  },
  {
   "cell_type": "code",
   "execution_count": null,
   "metadata": {
    "collapsed": false
   },
   "outputs": [],
   "source": [
    "plt.hist(np.nan_to_num(bak_cluster_event_df.avg_long_hip_qavg),\n",
    "        color='blue', alpha=0.8, bins=np.arange(0,200,5),normed = True)\n",
    "plt.hist(np.nan_to_num(sig_cluster_event_df.avg_long_hip_qavg), \n",
    "        color='red', alpha=0.8, bins=np.arange(0,200,5),normed = True)\n",
    "plt.title(\"avg longest hip qavg\")\n",
    "plt.plot()"
   ]
  },
  {
   "cell_type": "code",
   "execution_count": null,
   "metadata": {
    "collapsed": false
   },
   "outputs": [],
   "source": [
    "plt.hist(np.nan_to_num(bak_cluster_event_df.avg_long_mip_qsum),\n",
    "        color='blue', alpha=0.8, bins=np.arange(50,30000,500),normed = True)\n",
    "plt.hist(np.nan_to_num(sig_cluster_event_df.avg_long_mip_qsum), \n",
    "        color='red', alpha=0.8, bins=np.arange(50,30000,500),normed = True)\n",
    "plt.title(\"avg longest mip qsum\")\n",
    "plt.plot()"
   ]
  },
  {
   "cell_type": "code",
   "execution_count": null,
   "metadata": {
    "collapsed": false
   },
   "outputs": [],
   "source": [
    "plt.hist(np.nan_to_num(bak_cluster_event_df.avg_long_mip_qavg),\n",
    "        color='blue', alpha=0.8, bins=np.arange(0,40,2),normed = True)\n",
    "plt.hist(np.nan_to_num(sig_cluster_event_df.avg_long_mip_qavg), \n",
    "        color='red', alpha=0.8, bins=np.arange(0,40,2),normed = True)\n",
    "plt.title(\"avg longest mip qavg\")\n",
    "plt.plot()"
   ]
  },
  {
   "cell_type": "code",
   "execution_count": null,
   "metadata": {
    "collapsed": false,
    "scrolled": false
   },
   "outputs": [],
   "source": [
    "plt.figure()\n",
    "plt.hist(np.nan_to_num(bak_cluster_event_df.avg_long_hip_npx),\n",
    "        color='blue', alpha=0.8, bins=np.arange(0,150,2),normed = True)\n",
    "plt.hist(np.nan_to_num(sig_cluster_event_df.avg_long_hip_npx), \n",
    "        color='red', alpha=0.8, bins=np.arange(0,150,2),normed = True)\n",
    "plt.title(\"avg longest hip npx, (including 0s)\", fontsize = 15)\n",
    "plt.plot()\n",
    "\n",
    "plt.figure()\n",
    "plt.hist(np.nan_to_num(bak_cluster_event_df.avg_long_hip_npx),\n",
    "        color='blue', alpha=0.8, bins=np.arange(1,150,2),normed = True)\n",
    "plt.hist(np.nan_to_num(sig_cluster_event_df.avg_long_hip_npx), \n",
    "        color='red', alpha=0.8, bins=np.arange(1,150,2),normed = True)\n",
    "plt.title(\"avg longest hip npx, (excluding 0s)\", fontsize = 15)\n",
    "plt.plot()"
   ]
  },
  {
   "cell_type": "code",
   "execution_count": null,
   "metadata": {
    "collapsed": false
   },
   "outputs": [],
   "source": [
    "plt.hist(np.nan_to_num(bak_cluster_event_df.avg_long_mip_npx),\n",
    "        color='blue', alpha=0.8, bins=np.arange(0,1200,50),normed = True)\n",
    "plt.hist(np.nan_to_num(sig_cluster_event_df.avg_long_mip_npx), \n",
    "        color='red', alpha=0.8, bins=np.arange(0,1200,50),normed = True)\n",
    "plt.title(\"avg longest mip npx\")\n",
    "plt.plot()"
   ]
  },
  {
   "cell_type": "markdown",
   "metadata": {},
   "source": [
    "# Below plots are plane-wise"
   ]
  },
  {
   "cell_type": "code",
   "execution_count": null,
   "metadata": {
    "collapsed": false,
    "scrolled": false
   },
   "outputs": [],
   "source": [
    "for x in xrange(3):\n",
    "    plt.figure()\n",
    "    plt.hist(np.nan_to_num(bak_cluster_plane_df.query('plane==@x').long_hip_length),\n",
    "            color='blue', alpha=0.8, bins=np.arange(0,60,1),normed = True)\n",
    "    plt.hist(np.nan_to_num(sig_cluster_plane_df.query('plane==@x').long_hip_length),\n",
    "            color='red', alpha=0.8, bins=np.arange(0,60,1),normed = True)\n",
    "    plt.title('long_hip_length, plane %s'%x)    \n",
    "    plt.plot()"
   ]
  },
  {
   "cell_type": "code",
   "execution_count": null,
   "metadata": {
    "collapsed": false,
    "scrolled": true
   },
   "outputs": [],
   "source": [
    "for x in xrange(3):\n",
    "    plt.figure()\n",
    "    plt.hist(np.nan_to_num(bak_cluster_plane_df.query('plane==@x').long_mip_length),\n",
    "            color='blue', alpha=0.8, bins=np.arange(1,500,20),normed = True)\n",
    "    plt.hist(np.nan_to_num(sig_cluster_plane_df.query('plane==@x').long_mip_length),\n",
    "            color='red', alpha=0.8, bins=np.arange(1,500,20),normed = True)\n",
    "    plt.title('long_mip_length, plane %s'%x)    \n",
    "    plt.plot()"
   ]
  },
  {
   "cell_type": "code",
   "execution_count": null,
   "metadata": {
    "collapsed": false,
    "scrolled": true
   },
   "outputs": [],
   "source": [
    "for x in xrange(3):\n",
    "    plt.figure()\n",
    "    plt.hist(np.nan_to_num(bak_cluster_plane_df.query('plane==@x').long_hip_width),\n",
    "            color='blue', alpha=0.8, bins=np.arange(0,12,0.5),normed = True)\n",
    "    plt.hist(np.nan_to_num(sig_cluster_plane_df.query('plane==@x').long_hip_width),\n",
    "            color='red', alpha=0.8, bins=np.arange(0,12,0.5),normed = True)\n",
    "    plt.title('long_hip_width, plane %s'%x)    \n",
    "    plt.plot()"
   ]
  },
  {
   "cell_type": "code",
   "execution_count": null,
   "metadata": {
    "collapsed": false,
    "scrolled": true
   },
   "outputs": [],
   "source": [
    "for x in xrange(3):\n",
    "    plt.figure()\n",
    "    plt.hist(np.nan_to_num(bak_cluster_plane_df.query('plane==@x').long_mip_width),\n",
    "            color='blue', alpha=0.8, bins=np.arange(0,20,0.5),normed = True)\n",
    "    plt.hist(np.nan_to_num(sig_cluster_plane_df.query('plane==@x').long_mip_width),\n",
    "            color='red', alpha=0.8, bins=np.arange(0,20,0.5),normed = True)\n",
    "    plt.title('long_mip_width, plane %s'%x)    \n",
    "    plt.plot()"
   ]
  },
  {
   "cell_type": "code",
   "execution_count": null,
   "metadata": {
    "collapsed": false,
    "scrolled": true
   },
   "outputs": [],
   "source": [
    "#why long qsum per plane does not agree with the sum over 3 planes ???\n",
    "for x in xrange(3):\n",
    "    plt.figure()\n",
    "    plt.hist(np.nan_to_num(bak_cluster_plane_df.query('plane==@x').long_hip_qsum),\n",
    "            color='blue', alpha=0.8, bins=np.arange(10,1500,50),normed = True)\n",
    "    plt.hist(np.nan_to_num(sig_cluster_plane_df.query('plane==@x').long_hip_qsum),\n",
    "            color='red', alpha=0.8, bins=np.arange(10,1500,50),normed = True)\n",
    "    plt.title('long_hip_qsum, plane %s'%x)  \n",
    "    plt.xticks(rotation = 'vertical')\n",
    "    plt.plot()"
   ]
  },
  {
   "cell_type": "code",
   "execution_count": null,
   "metadata": {
    "collapsed": false,
    "scrolled": true
   },
   "outputs": [],
   "source": [
    "for x in xrange(3):\n",
    "    plt.figure()\n",
    "    plt.hist(np.nan_to_num(bak_cluster_plane_df.query('plane==@x').long_hip_qavg),\n",
    "            color='blue', alpha=0.8, bins=np.arange(10,200,5),normed = True)\n",
    "    plt.hist(np.nan_to_num(sig_cluster_plane_df.query('plane==@x').long_hip_qavg),\n",
    "            color='red', alpha=0.8, bins=np.arange(10,200,5),normed = True)\n",
    "    plt.title('long_hip_qavg, plane %s'%x)    \n",
    "    plt.plot()"
   ]
  },
  {
   "cell_type": "code",
   "execution_count": null,
   "metadata": {
    "collapsed": false,
    "scrolled": true
   },
   "outputs": [],
   "source": [
    "for x in xrange(3):\n",
    "    plt.figure()\n",
    "    plt.hist(np.nan_to_num(bak_cluster_plane_df.query('plane==@x').long_hip_npx),\n",
    "            color='blue', alpha=0.8, bins=np.arange(10,200,5),normed = True)\n",
    "    plt.hist(np.nan_to_num(sig_cluster_plane_df.query('plane==@x').long_hip_npx),\n",
    "            color='red', alpha=0.8, bins=np.arange(10,200,5),normed = True)\n",
    "    plt.title('long_hip_npx, plane %s'%x)    \n",
    "    plt.plot()"
   ]
  },
  {
   "cell_type": "code",
   "execution_count": null,
   "metadata": {
    "collapsed": false,
    "scrolled": true
   },
   "outputs": [],
   "source": [
    "for x in xrange(3):\n",
    "    plt.figure()\n",
    "    plt.hist(np.nan_to_num(bak_cluster_plane_df.query('plane==@x').long_mip_npx),\n",
    "            color='blue', alpha=0.8, bins=np.arange(10,200,5),normed = True)\n",
    "    plt.hist(np.nan_to_num(sig_cluster_plane_df.query('plane==@x').long_mip_npx),\n",
    "            color='red', alpha=0.8, bins=np.arange(10,200,5),normed = True)\n",
    "    plt.title('long_mip_npx, plane %s'%x)    \n",
    "    plt.plot()"
   ]
  },
  {
   "cell_type": "code",
   "execution_count": null,
   "metadata": {
    "collapsed": false,
    "scrolled": false
   },
   "outputs": [],
   "source": [
    "for x in xrange(3):\n",
    "    plt.figure()\n",
    "    plt.hist(np.nan_to_num(bak_cluster_plane_df.query('plane==@x').long_hip_angle),\n",
    "            color='blue', alpha=0.8, bins=np.arange(-90,90,5),normed = True)\n",
    "    plt.hist(np.nan_to_num(sig_cluster_plane_df.query('plane==@x').long_hip_angle),\n",
    "            color='red', alpha=0.8, bins=np.arange(-90,90,5),normed = True)\n",
    "    plt.title('long_hip_angle, plane %s'%x)    \n",
    "    plt.plot()"
   ]
  },
  {
   "cell_type": "code",
   "execution_count": null,
   "metadata": {
    "collapsed": false,
    "scrolled": false
   },
   "outputs": [],
   "source": [
    "for x in xrange(3):\n",
    "    plt.figure()\n",
    "    plt.hist(np.nan_to_num(bak_cluster_plane_df.query('plane==@x').long_mip_angle),\n",
    "            color='blue', alpha=0.8, bins=np.arange(-90,90,5),normed = True)\n",
    "    plt.hist(np.nan_to_num(sig_cluster_plane_df.query('plane==@x').long_mip_angle),\n",
    "            color='red', alpha=0.8, bins=np.arange(-90,90,5),normed = True)\n",
    "    plt.title('long_mip_angle, plane %s'%x)    \n",
    "    plt.plot()"
   ]
  },
  {
   "cell_type": "code",
   "execution_count": null,
   "metadata": {
    "collapsed": true
   },
   "outputs": [],
   "source": []
  },
  {
   "cell_type": "code",
   "execution_count": null,
   "metadata": {
    "collapsed": true
   },
   "outputs": [],
   "source": []
  },
  {
   "cell_type": "code",
   "execution_count": null,
   "metadata": {
    "collapsed": true
   },
   "outputs": [],
   "source": []
  },
  {
   "cell_type": "code",
   "execution_count": null,
   "metadata": {
    "collapsed": false
   },
   "outputs": [],
   "source": [
    "for x in xrange(3):\n",
    "    plt.figure()\n",
    "    plt.hist(np.nan_to_num(bak_cluster_plane_df.query('plane==@x').long_mip_angle),\n",
    "            color='blue', alpha=0.8, bins=np.arange(-90,90,5),normed = True)\n",
    "    plt.hist(np.nan_to_num(sig_cluster_plane_df.query('plane==@x').long_mip_angle),\n",
    "            color='red', alpha=0.8, bins=np.arange(-90,90,5),normed = True)\n",
    "    plt.title('long_mip_angle, plane %s'%x)    \n",
    "    plt.plot()"
   ]
  },
  {
   "cell_type": "code",
   "execution_count": null,
   "metadata": {
    "collapsed": true
   },
   "outputs": [],
   "source": []
  },
  {
   "cell_type": "code",
   "execution_count": null,
   "metadata": {
    "collapsed": true
   },
   "outputs": [],
   "source": [
    "reco_vtx3d_event_df.ix[]"
   ]
  },
  {
   "cell_type": "code",
   "execution_count": null,
   "metadata": {
    "collapsed": false
   },
   "outputs": [],
   "source": [
    "signal_mc_reco_df.head()"
   ]
  },
  {
   "cell_type": "code",
   "execution_count": null,
   "metadata": {
    "collapsed": true
   },
   "outputs": [],
   "source": [
    "iom=larcv.IOManager(larcv.IOManager.kBOTH)        \n",
    "iom.reset()\n",
    "iom.set_verbosity(0)                                                                          \n",
    "iom.add_in_file(\"../numu_ccqe_p00_p07.root\")\n",
    "iom.set_out_file(\"/tmp/trash.root\")\n",
    "iom.initialize()\n",
    "\n",
    "larbysimg=larcv.LArbysImage()\n",
    "cfg=larcv.CreatePSetFromFile(\"empty.fcl\",\"LArbysImage\")\n",
    "larbysimg.configure(cfg)\n",
    "larbysimg.initialize()"
   ]
  },
  {
   "cell_type": "code",
   "execution_count": null,
   "metadata": {
    "collapsed": false,
    "scrolled": false
   },
   "outputs": [],
   "source": [
    "faillist = []\n",
    "ctr = 0\n",
    "colormap=['red','blue','green','orange','pink','black']\n",
    "\n",
    "signal_mc_df = back_mc_reco_df\n",
    "\n",
    "for entry in signal_mc_df.index:\n",
    "    \n",
    "    thisrun    = signal_mc_df.loc[entry].run\n",
    "    thissubrun = signal_mc_df.loc[entry].subrun\n",
    "    thisevent  = signal_mc_df.loc[entry].event\n",
    "    #print thisrun, thissubrun, thisevent\n",
    "    \n",
    "    iom.read_entry(entry)\n",
    "    larbysimg.process(iom)\n",
    "    mgr=larbysimg.Manager()\n",
    "    \n",
    "    img_v = []\n",
    "    \n",
    "    fig,ax=plt.subplots(figsize=(20,20))\n",
    "    maxx=0;minx=9999\n",
    "    maxy=0;miny=9999\n",
    "    plane=0\n",
    "    caca_img=np.zeros((485, 485,3))\n",
    "    cc=-1 #Add colors to different plane\n",
    "    for mat in mgr.InputImages():\n",
    "        cc+=1\n",
    "        img_v.append(pygeo.image(mat))\n",
    "        shape_img=np.where(img_v[plane]>1.5,1.0,0.0).astype(np.uint8)\n",
    "        plane+=1\n",
    "        nz_pixels=np.where(shape_img>0.0)\n",
    "        \n",
    "        maxx=np.maximum(maxx,np.max(nz_pixels[1])+100)\n",
    "        minx=np.minimum(minx,np.min(nz_pixels[1])-100)\n",
    "\n",
    "        maxy=np.maximum(maxy,np.max(nz_pixels[0])+100)\n",
    "        miny=np.minimum(miny,np.min(nz_pixels[0])-100)\n",
    "\n",
    "        caca_img[:,:,cc]=shape_img\n",
    "    caca_img=np.where(caca_img>0.0,1.0,255)\n",
    "    caca_img=caca_img.astype(np.uint8)\n",
    "    plt.imshow(caca_img,interpolation='none')\n",
    "\n",
    "    for iz in xrange(3):\n",
    "        w_v=signal_mc_df.loc[entry].vtx2d_w\n",
    "        t_v=signal_mc_df.loc[entry].vtx2d_t\n",
    "        \n",
    "        for w,t in zip(w_v,t_v):\n",
    "            plt.plot(t,w,'^',color='yellow',markersize=15)\n",
    "###MC info drawing ends here.\n",
    "    thesevtx3d     = reco_vtx3d_df.query('(run==@thisrun) & (subrun == @thissubrun) & (event == @thisevent )')\n",
    "    theserecoevent = reco_vtx3d_event_df.query('(run==@thisrun) & (subrun == @thissubrun) & (event == @thisevent )') \n",
    "    if reco_vtx3d_event_df.empty: n_vtx3d = 0\n",
    "    else :                      \n",
    "        n_vtx3d = theserecoevent.n_vtx3d\n",
    "        thesevtx3d = thesevtx3d.sort_values(by=['sum_pixel_frac'], ascending=False)\n",
    "    \n",
    "    color_ctor = 0\n",
    "    passflag = ' vtx found!'\n",
    "    \n",
    "    for x_v, y_v ,sum_f , x3d_v, y3d_v, z3d_v in zip(thesevtx3d.circle_vtx_x_v, \n",
    "                                                     thesevtx3d.circle_vtx_y_v , thesevtx3d.sum_pixel_frac,\n",
    "                                                     thesevtx3d.vtx3d_x, thesevtx3d.vtx3d_y, thesevtx3d.vtx3d_z) :\n",
    "        plt.plot(x_v,y_v,'*',color=colormap[color_ctor],markersize=20)\n",
    "        plt.text(-100,0+color_ctor*40,\" sum_pixel_frac %0.3f \\n Reco 3d vtx at x: %.1f,y: %.1f, z: %.1f\"%\n",
    "            (\n",
    "             sum_f, x3d_v, y3d_v, z3d_v\n",
    "            ),fontsize = 30, color = colormap[color_ctor])\n",
    "            \n",
    "        color_ctor+=1\n",
    "    ax.set_title(\"Entry {}\".format(entry),fontweight='bold',fontsize=40)\n",
    "    ctr+=1\n",
    "\n",
    "    mc_vtx_x       = signal_mc_df.loc[entry].parentX\n",
    "    mc_vtx_y       = signal_mc_df.loc[entry].parentY\n",
    "    mc_vtx_z       = signal_mc_df.loc[entry].parentZ\n",
    "    \n",
    "    plt.text(-100,-50,\" %i,%s\\n nutrino ini eng: %.0fMev \\n MC 3d vtx at x: %.1f,y: %.1f, z: %.1f\"%\n",
    "             (\n",
    "              n_vtx3d,passflag,\n",
    "               signal_mc_df.loc[entry].energyInit,\n",
    "               mc_vtx_x,mc_vtx_y,mc_vtx_z,\n",
    "             ),fontsize = 30)\n",
    "       \n",
    "    daupdg_v       = signal_mc_df.loc[entry].daughterPdg_v\n",
    "    dautrkid_v     = signal_mc_df.loc[entry].daughterTrackid_v\n",
    "    daupartrkid_v  = signal_mc_df.loc[entry].daughterParentTrackid_v\n",
    "    dauengini      = signal_mc_df.loc[entry].daughterEnergyDep_v\n",
    "\n",
    "    linespace = 0\n",
    "    for pdg, trkid, ptrkid, engini in zip(daupdg_v, dautrkid_v, daupartrkid_v, dauengini):\n",
    "        if trkid == ptrkid : \n",
    "            plt.text(-100,100+linespace*40,\" daughter PDG:\\n %i, %.1fMeV\"%\n",
    "            (\n",
    "            pdg,\n",
    "            engini\n",
    "            ),fontsize = 30)\n",
    "            linespace +=1\n",
    "    #plt.savefig(\"reco_%04d.png\"%entry)\n",
    "    break\n",
    "    plt.show()"
   ]
  },
  {
   "cell_type": "code",
   "execution_count": null,
   "metadata": {
    "collapsed": true
   },
   "outputs": [],
   "source": []
  },
  {
   "cell_type": "code",
   "execution_count": null,
   "metadata": {
    "collapsed": true
   },
   "outputs": [],
   "source": []
  },
  {
   "cell_type": "code",
   "execution_count": null,
   "metadata": {
    "collapsed": true
   },
   "outputs": [],
   "source": []
  }
 ],
 "metadata": {
  "kernelspec": {
   "display_name": "Python 2",
   "language": "python",
   "name": "python2"
  },
  "language_info": {
   "codemirror_mode": {
    "name": "ipython",
    "version": 2
   },
   "file_extension": ".py",
   "mimetype": "text/x-python",
   "name": "python",
   "nbconvert_exporter": "python",
   "pygments_lexer": "ipython2",
   "version": "2.7.10"
  }
 },
 "nbformat": 4,
 "nbformat_minor": 0
}
