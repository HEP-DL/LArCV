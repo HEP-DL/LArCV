{
 "cells": [
  {
   "cell_type": "code",
   "execution_count": null,
   "metadata": {
    "collapsed": true
   },
   "outputs": [],
   "source": [
    "%matplotlib inline\n",
    "\n",
    "import ROOT, sys, os\n",
    "from ROOT import std\n",
    "\n",
    "from larcv import larcv\n",
    "from larlite import larlite as ll\n",
    "from larlite import larutil as lu\n",
    "\n",
    "import numpy as np\n",
    "import matplotlib\n",
    "import matplotlib.pyplot as plt\n",
    "import matplotlib.path as path\n",
    "import matplotlib.patches as patches\n",
    "\n",
    "from ROOT import geo2d,cv\n",
    "from ROOT.cv import Point_ as Vector\n",
    "DTYPE='float'\n",
    "\n",
    "import root_numpy as rn\n",
    "import pandas as pd\n",
    "\n",
    "geoh=lu.GeometryHelper.GetME()\n",
    "geo=lu.Geometry.GetME()\n",
    "larp=lu.LArProperties.GetME()\n",
    "pygeo = geo2d.PyDraw()\n",
    "\n",
    "matplotlib.rcParams['font.size']=20\n",
    "matplotlib.rcParams['font.family']='serif'"
   ]
  },
  {
   "cell_type": "code",
   "execution_count": null,
   "metadata": {
    "collapsed": false
   },
   "outputs": [],
   "source": [
    "INFILE=\"../test.root\"\n",
    "\n",
    "reco_event_df = pd.DataFrame(rn.root2array(INFILE,treename='EventTree'))\n",
    "reco_event_df = reco_event_df.drop_duplicates(subset=['run','subrun','event'])\n",
    "\n",
    "#reco_vtx3d_df = pd.DataFrame(rn.root2array(INFILE,treename='Vtx3DTree'))\n",
    "#reco_vtx3d_df = reco_vtx3d_df.drop_duplicates(subset=['run','subrun','event','vtx3d_id'])\n",
    "\n",
    "#reco_particle_df = pd.DataFrame(rn.root2array(INFILE,treename='ParticleTree'))\n",
    "#reco_particle_df = reco_particle_df.drop_duplicates(subset=['run','subrun','event','vtx3d_id','plane_id'])\n",
    "\n",
    "reco_defect_df = pd.DataFrame(rn.root2array(INFILE,treename='DefectDefectTree'))\n",
    "reco_defect_df = reco_defect_df.drop_duplicates(subset=['run','subrun','event'])\n",
    "\n",
    "reco_cluster_event_df = pd.DataFrame(rn.root2array(INFILE, treename = 'ClusterEventTree'))\n",
    "reco_cluster_event_df = reco_cluster_event_df.drop_duplicates(subset=['run','subrun','event'])\n",
    "\n",
    "reco_cluster_plane_df = pd.DataFrame(rn.root2array(INFILE, treename = 'ClusterPlaneTree'))\n",
    "reco_cluster_plane_df = reco_cluster_plane_df.drop_duplicates(subset=['run','subrun','event','plane'])\n",
    "\n",
    "mc_df = pd.DataFrame(rn.root2array(INFILE,treename='mctree'))\n",
    "mc_df = mc_df.drop_duplicates(subset=['run','subrun','event'])\n",
    "\n",
    "signal_mc_df = mc_df[mc_df.signal==1].copy().reindex()\n",
    "back_mc_df   = mc_df[mc_df.signal==0].copy().reindex()\n",
    "print signal_mc_df.index.size\n",
    "print back_mc_df.index.size"
   ]
  },
  {
   "cell_type": "code",
   "execution_count": null,
   "metadata": {
    "collapsed": true
   },
   "outputs": [],
   "source": [
    "# check if there is a good vertex or not\n",
    "def correct(reco_vtx3d_,group_,chosen_idx_):\n",
    "\n",
    "    ### use projected vertex\n",
    "    \n",
    "    # recox = reco_vtx3d_.vtx2d_x_v.values[chosen_idx_]\n",
    "    # recoy = reco_vtx3d_.vtx2d_y_v.values[chosen_idx_]\n",
    "\n",
    "    ### use circle vertex\n",
    "    \n",
    "    recox = reco_vtx3d_.circle_vtx_x_v.values[chosen_idx_]\n",
    "    recoy = reco_vtx3d_.circle_vtx_y_v.values[chosen_idx_]\n",
    "    \n",
    "    mcx = group_.vtx2d_t.values[0]\n",
    "    mcy = group_.vtx2d_w.values[0]\n",
    "    \n",
    "    dist=np.sqrt(np.power(recox-mcx,2)+np.power(recoy-mcy,2))\n",
    "\n",
    "    dist.sort()\n",
    "\n",
    "    dist0_b = False\n",
    "    dist1_b = False\n",
    "    \n",
    "    if dist[0] <=7 : dist0_b = True\n",
    "    if dist[1] <=7 : dist1_b = True\n",
    "    \n",
    "    return (dist0_b==True and dist1_b==True)\n",
    "    \n",
    "\n",
    "def do_selection(mc_sdf,reco_event_df,reco_vtx3d_df):\n",
    "\n",
    "    selected = []\n",
    "\n",
    "    mc_gdf  = mc_sdf.set_index(['run','subrun','event'])\n",
    "    groups_ = mc_gdf.groupby(mc_gdf.index)\n",
    "    \n",
    "    for name, group in groups_:\n",
    "\n",
    "        nvtx_b  = False\n",
    "        close_b = False\n",
    "\n",
    "        query_='run=={}&subrun=={}&event=={}'.format(name[0],name[1],name[2])\n",
    "        \n",
    "        reco_event = reco_event_df.query(query_)\n",
    "\n",
    "        if reco_event.n_vtx3d.values > 0: \n",
    "            nvtx_b = True\n",
    "        \n",
    "        if nvtx_b == False: \n",
    "            continue\n",
    "            \n",
    "        reco_vtx3d = reco_vtx3d_df.query(query_)\n",
    "\n",
    "        if ( reco_event.n_vtx3d.values != reco_vtx3d.vtx3d_id.size ):\n",
    "            pass\n",
    "            # print query_\n",
    "\n",
    "        good_reco = False\n",
    "        for idx_ in xrange(reco_event.n_vtx3d):\n",
    "\n",
    "            if good_reco==True : break\n",
    "            good_reco = correct(reco_vtx3d,group,idx_)\n",
    "\n",
    "        if good_reco==True: \n",
    "            close_b=True\n",
    "\n",
    "        if nvtx_b==True and close_b==True:\n",
    "            selected.append(mc_sdf.query(query_).index.values[0])\n",
    "\n",
    "    return np.array(selected)"
   ]
  },
  {
   "cell_type": "markdown",
   "metadata": {},
   "source": [
    "# Reconstruction Efficiency on Signal"
   ]
  },
  {
   "cell_type": "code",
   "execution_count": null,
   "metadata": {
    "collapsed": false
   },
   "outputs": [],
   "source": [
    "mc_df=signal_mc_df\n",
    "#mc_df=back_mc_df\n",
    "n_reco_v = do_selection(mc_df,reco_event_df,reco_vtx3d_df)\n",
    "print \"Reco Efficiency is \", n_reco_v.size,\"/\",mc_df.index.size,\"= \",float(n_reco_v.size)/float(mc_df.index.size)\n",
    "print n_reco_v"
   ]
  },
  {
   "cell_type": "code",
   "execution_count": null,
   "metadata": {
    "collapsed": false
   },
   "outputs": [],
   "source": [
    "# Index by run,subrun,event\n",
    "index_=['run','subrun','event']\n",
    "\n",
    "#Signal dataframes\n",
    "# sig_event_df    = reco_event_df.copy()\n",
    "# sig_vtx3d_df    = reco_vtx3d_df.copy()\n",
    "# sig_particle_df = reco_particle_df.copy()\n",
    "sig_defect_df        = reco_defect_df.copy()\n",
    "sig_cluster_event_df = reco_cluster_event_df.copy()\n",
    "sig_cluster_plane_df = reco_cluster_plane_df.copy()\n",
    "   \n",
    "sig_mc_df       = signal_mc_df.set_index(index_)\n",
    "# sig_event_df    = sig_event_df.set_index(index_)\n",
    "# sig_vtx3d_df    = sig_vtx3d_df.set_index(index_)\n",
    "# sig_particle_df = sig_particle_df.set_index(index_)\n",
    "sig_defect_df        = sig_defect_df.set_index(index_)\n",
    "sig_cluster_event_df = sig_cluster_event_df.set_index(index_)\n",
    "sig_cluster_plane_df = sig_cluster_plane_df.set_index(index_)\n",
    "\n",
    "# sig_event_df    = sig_event_df.ix[sig_mc_df.index]\n",
    "# sig_vtx3d_df    = sig_vtx3d_df.ix[sig_mc_df.index]\n",
    "# sig_particle_df = sig_particle_df.ix[sig_mc_df.index]\n",
    "sig_defect_df        = sig_defect_df.ix[sig_mc_df.index]\n",
    "sig_cluster_event_df = sig_cluster_event_df.ix[sig_mc_df.index]\n",
    "sig_cluster_plane_df = sig_cluster_plane_df.ix[sig_mc_df.index]\n",
    "\n",
    "#Background dataframes\n",
    "# bak_event_df    = reco_event_df.copy()\n",
    "# bak_vtx3d_df    = reco_vtx3d_df.copy()\n",
    "# bak_particle_df = reco_particle_df.copy()\n",
    "bak_defect_df        = reco_defect_df.copy()\n",
    "bak_cluster_event_df = reco_cluster_event_df.copy()\n",
    "bak_cluster_plane_df = reco_cluster_plane_df.copy()\n",
    "\n",
    "bak_mc_df            = back_mc_df.set_index(index_)\n",
    "# bak_event_df    = bak_event_df.set_index(index_)\n",
    "# bak_vtx3d_df    = bak_vtx3d_df.set_index(index_)\n",
    "# bak_particle_df = bak_particle_df.set_index(index_)\n",
    "bak_defect_df        = bak_defect_df.set_index(index_)\n",
    "bak_cluster_event_df = bak_cluster_event_df.set_index(index_)\n",
    "bak_cluster_plane_df = bak_cluster_plane_df.set_index(index_)\n",
    "\n",
    "# bak_event_df    = bak_event_df.ix[bak_mc_df.index]\n",
    "# bak_vtx3d_df    = bak_vtx3d_df.ix[bak_mc_df.index]\n",
    "# bak_particle_df = bak_particle_df.ix[bak_mc_df.index]\n",
    "bak_defect_df        = bak_defect_df.ix[bak_mc_df.index]\n",
    "bak_cluster_event_df = bak_cluster_event_df.ix[bak_mc_df.index]\n",
    "bak_cluster_plane_df = bak_cluster_plane_df.ix[bak_mc_df.index]\n"
   ]
  },
  {
   "cell_type": "code",
   "execution_count": null,
   "metadata": {
    "collapsed": false
   },
   "outputs": [],
   "source": [
    "plt.hist(np.nan_to_num(bak_defect_df.defect_dist/bak_defect_df.defect_dist_start_end), \n",
    "        color='blue', alpha=0.8, bins=np.arange(0.01,0.2,0.005),normed = True)\n",
    "plt.hist(np.nan_to_num(sig_defect_df.defect_dist/sig_defect_df.defect_dist_start_end), \n",
    "        color='red',  alpha=0.8, bins=np.arange(0.01,0.2,0.005),normed = True)\n",
    "plt.title('dist ratio')\n",
    "plt.plot()"
   ]
  },
  {
   "cell_type": "code",
   "execution_count": null,
   "metadata": {
    "collapsed": false
   },
   "outputs": [],
   "source": [
    "# plt.hist(np.nan_to_num(bak_defect_df.defect_dist), \n",
    "#         color='blue', alpha=0.8, bins=np.arange(0,300,5),normed=True)\n",
    "# plt.hist(np.nan_to_num(bak_defect_df.defect_dist_start_end), \n",
    "#         color='red', alpha=0.8, bins=np.arange(0,300,5),normed=True)\n",
    "# plt.plot()"
   ]
  },
  {
   "cell_type": "code",
   "execution_count": null,
   "metadata": {
    "collapsed": false
   },
   "outputs": [],
   "source": [
    "# plt.hist(np.nan_to_num(sig_defect_df.defect_dist), \n",
    "#         color='blue', alpha=0.8, bins=np.arange(0,300,5),normed=True)\n",
    "# plt.hist(np.nan_to_num(sig_defect_df.defect_dist_start_end), \n",
    "#         color='red', alpha=0.8, bins=np.arange(0,300,5),normed=True)\n",
    "# plt.plot()"
   ]
  },
  {
   "cell_type": "code",
   "execution_count": null,
   "metadata": {
    "collapsed": false
   },
   "outputs": [],
   "source": [
    "plt.hist(np.nan_to_num(bak_defect_df.defect_dist), \n",
    "        color='blue', alpha=0.8, bins=np.arange(1,80,2),normed=True)\n",
    "plt.hist(np.nan_to_num(sig_defect_df.defect_dist), \n",
    "        color='red', alpha=0.8, bins=np.arange(1,80,2),normed=True)\n",
    "plt.title(\"defect dist\")\n",
    "plt.plot()"
   ]
  },
  {
   "cell_type": "code",
   "execution_count": null,
   "metadata": {
    "collapsed": false
   },
   "outputs": [],
   "source": [
    "plt.hist(np.nan_to_num(bak_defect_df.defect_dist_start_end), \n",
    "        color='blue', alpha=0.8, bins=np.arange(1,500,20),normed=True)\n",
    "plt.hist(np.nan_to_num(sig_defect_df.defect_dist_start_end), \n",
    "        color='red', alpha=0.8, bins=np.arange(1,500,20),normed=True)\n",
    "plt.title(\"defect dist start2end(long side)\")\n",
    "plt.plot()"
   ]
  },
  {
   "cell_type": "code",
   "execution_count": null,
   "metadata": {
    "collapsed": false
   },
   "outputs": [],
   "source": [
    "plt.hist(np.nan_to_num(bak_cluster_event_df.avg_long_hip_length), \n",
    "        color='blue', alpha=0.8, bins=np.arange(0,60,1),normed = True)\n",
    "plt.hist(np.nan_to_num(sig_cluster_event_df.avg_long_hip_length), \n",
    "        color='red', alpha=0.8, bins=np.arange(0,60,1),normed = True)\n",
    "plt.title(\"avg longest hip length\")\n",
    "plt.plot()"
   ]
  },
  {
   "cell_type": "code",
   "execution_count": null,
   "metadata": {
    "collapsed": false
   },
   "outputs": [],
   "source": [
    "plt.hist(np.nan_to_num(bak_cluster_event_df.avg_long_mip_length), \n",
    "        color='blue', alpha=0.8, bins=np.arange(4,500,20),normed = True)\n",
    "plt.hist(np.nan_to_num(sig_cluster_event_df.avg_long_mip_length), \n",
    "        color='red', alpha=0.8, bins=np.arange(4,500,20),normed = True)\n",
    "plt.title(\"avg longest mip length\")\n",
    "plt.plot()"
   ]
  },
  {
   "cell_type": "code",
   "execution_count": null,
   "metadata": {
    "collapsed": false
   },
   "outputs": [],
   "source": [
    "plt.hist(np.nan_to_num(bak_cluster_event_df.avg_long_hip_width), \n",
    "        color='blue', alpha=0.8, bins=np.arange(0,20,0.5),normed = True)\n",
    "plt.hist(np.nan_to_num(sig_cluster_event_df.avg_long_hip_width), \n",
    "        color='red', alpha=0.8, bins=np.arange(0,20,0.5),normed = True)\n",
    "plt.title(\"avg longest hip width\")\n",
    "plt.plot()"
   ]
  },
  {
   "cell_type": "code",
   "execution_count": null,
   "metadata": {
    "collapsed": false
   },
   "outputs": [],
   "source": [
    "plt.hist(np.nan_to_num(bak_cluster_event_df.avg_long_mip_width), \n",
    "        color='blue', alpha=0.8, bins=np.arange(0,25,1),normed = True)\n",
    "plt.hist(np.nan_to_num(sig_cluster_event_df.avg_long_mip_width), \n",
    "        color='red', alpha=0.8, bins=np.arange(0,25,1),normed = True)\n",
    "plt.title(\"avg longest mip width\")\n",
    "plt.plot()"
   ]
  },
  {
   "cell_type": "code",
   "execution_count": null,
   "metadata": {
    "collapsed": false,
    "scrolled": true
   },
   "outputs": [],
   "source": [
    "plt.figure()\n",
    "plt.hist(np.nan_to_num(bak_cluster_event_df.avg_long_hip_qsum),\n",
    "        color='blue', alpha=0.8, bins=np.arange(0,15000,300),normed = True)\n",
    "plt.hist(np.nan_to_num(sig_cluster_event_df.avg_long_hip_qsum), \n",
    "        color='red', alpha=0.8, bins=np.arange(0,15000,300),normed = True)\n",
    "plt.title(\"avg longest hip qsum, (incluing zeros)\")\n",
    "plt.xticks(rotation='vertical')\n",
    "plt.plot()\n",
    "\n",
    "plt.figure()\n",
    "plt.hist(np.nan_to_num(bak_cluster_event_df.avg_long_hip_qsum),\n",
    "        color='blue', alpha=0.8, bins=np.arange(1,15000,300),normed = True)\n",
    "plt.hist(np.nan_to_num(sig_cluster_event_df.avg_long_hip_qsum), \n",
    "        color='red', alpha=0.8, bins=np.arange(1,15000,300),normed = True)\n",
    "plt.title(\"avg longest hip qsum, (excluing zeros)\")\n",
    "plt.xticks(rotation='vertical')\n",
    "plt.plot()"
   ]
  },
  {
   "cell_type": "code",
   "execution_count": null,
   "metadata": {
    "collapsed": false
   },
   "outputs": [],
   "source": [
    "plt.hist(np.nan_to_num(bak_cluster_event_df.avg_long_hip_qavg),\n",
    "        color='blue', alpha=0.8, bins=np.arange(0,200,5),normed = True)\n",
    "plt.hist(np.nan_to_num(sig_cluster_event_df.avg_long_hip_qavg), \n",
    "        color='red', alpha=0.8, bins=np.arange(0,200,5),normed = True)\n",
    "plt.title(\"avg longest hip qavg\")\n",
    "plt.plot()"
   ]
  },
  {
   "cell_type": "code",
   "execution_count": null,
   "metadata": {
    "collapsed": false
   },
   "outputs": [],
   "source": [
    "plt.hist(np.nan_to_num(bak_cluster_event_df.avg_long_mip_qsum),\n",
    "        color='blue', alpha=0.8, bins=np.arange(50,30000,500),normed = True)\n",
    "plt.hist(np.nan_to_num(sig_cluster_event_df.avg_long_mip_qsum), \n",
    "        color='red', alpha=0.8, bins=np.arange(50,30000,500),normed = True)\n",
    "plt.title(\"avg longest mip qsum\")\n",
    "plt.plot()"
   ]
  },
  {
   "cell_type": "code",
   "execution_count": null,
   "metadata": {
    "collapsed": false
   },
   "outputs": [],
   "source": [
    "plt.hist(np.nan_to_num(bak_cluster_event_df.avg_long_mip_qavg),\n",
    "        color='blue', alpha=0.8, bins=np.arange(0,40,2),normed = True)\n",
    "plt.hist(np.nan_to_num(sig_cluster_event_df.avg_long_mip_qavg), \n",
    "        color='red', alpha=0.8, bins=np.arange(0,40,2),normed = True)\n",
    "plt.title(\"avg longest mip qavg\")\n",
    "plt.plot()"
   ]
  },
  {
   "cell_type": "code",
   "execution_count": null,
   "metadata": {
    "collapsed": false,
    "scrolled": true
   },
   "outputs": [],
   "source": [
    "plt.figure()\n",
    "plt.hist(np.nan_to_num(bak_cluster_event_df.avg_long_hip_npx),\n",
    "        color='blue', alpha=0.8, bins=np.arange(0,40,2),normed = True)\n",
    "plt.hist(np.nan_to_num(sig_cluster_event_df.avg_long_hip_npx), \n",
    "        color='red', alpha=0.8, bins=np.arange(0,40,2),normed = True)\n",
    "plt.title(\"avg longest hip npx, (including 0s)\")\n",
    "plt.plot()\n",
    "\n",
    "plt.figure()\n",
    "plt.hist(np.nan_to_num(bak_cluster_event_df.avg_long_hip_npx),\n",
    "        color='blue', alpha=0.8, bins=np.arange(1,40,2),normed = True)\n",
    "plt.hist(np.nan_to_num(sig_cluster_event_df.avg_long_hip_npx), \n",
    "        color='red', alpha=0.8, bins=np.arange(1,40,2),normed = True)\n",
    "plt.title(\"avg longest hip npx, (excluding 0s)\")\n",
    "plt.plot()"
   ]
  },
  {
   "cell_type": "code",
   "execution_count": null,
   "metadata": {
    "collapsed": false
   },
   "outputs": [],
   "source": [
    "plt.hist(np.nan_to_num(bak_cluster_event_df.avg_long_mip_npx),\n",
    "        color='blue', alpha=0.8, bins=np.arange(0,1000,50),normed = True)\n",
    "plt.hist(np.nan_to_num(sig_cluster_event_df.avg_long_mip_npx), \n",
    "        color='red', alpha=0.8, bins=np.arange(0,1000,50),normed = True)\n",
    "plt.title(\"avg longest mip npx\")\n",
    "plt.plot()"
   ]
  },
  {
   "cell_type": "markdown",
   "metadata": {},
   "source": [
    "# Below plots are plane-wise"
   ]
  },
  {
   "cell_type": "code",
   "execution_count": null,
   "metadata": {
    "collapsed": false,
    "scrolled": true
   },
   "outputs": [],
   "source": [
    "for x in xrange(3):\n",
    "    plt.figure()\n",
    "    plt.hist(np.nan_to_num(bak_cluster_plane_df.query('plane==@x').long_hip_length),\n",
    "            color='blue', alpha=0.8, bins=np.arange(1,60,2),normed = True)\n",
    "    plt.hist(np.nan_to_num(sig_cluster_plane_df.query('plane==@x').long_hip_length),\n",
    "            color='red', alpha=0.8, bins=np.arange(1,60,2),normed = True)\n",
    "    plt.title('long_hip_length, plane %s'%x)    \n",
    "    plt.plot()"
   ]
  },
  {
   "cell_type": "code",
   "execution_count": null,
   "metadata": {
    "collapsed": false,
    "scrolled": true
   },
   "outputs": [],
   "source": [
    "for x in xrange(3):\n",
    "    plt.figure()\n",
    "    plt.hist(np.nan_to_num(bak_cluster_plane_df.query('plane==@x').long_mip_length),\n",
    "            color='blue', alpha=0.8, bins=np.arange(1,500,20),normed = True)\n",
    "    plt.hist(np.nan_to_num(sig_cluster_plane_df.query('plane==@x').long_mip_length),\n",
    "            color='red', alpha=0.8, bins=np.arange(1,500,20),normed = True)\n",
    "    plt.title('long_mip_length, plane %s'%x)    \n",
    "    plt.plot()"
   ]
  },
  {
   "cell_type": "code",
   "execution_count": null,
   "metadata": {
    "collapsed": false,
    "scrolled": true
   },
   "outputs": [],
   "source": [
    "for x in xrange(3):\n",
    "    plt.figure()\n",
    "    plt.hist(np.nan_to_num(bak_cluster_plane_df.query('plane==@x').long_hip_width),\n",
    "            color='blue', alpha=0.8, bins=np.arange(0,12,0.5),normed = True)\n",
    "    plt.hist(np.nan_to_num(sig_cluster_plane_df.query('plane==@x').long_hip_width),\n",
    "            color='red', alpha=0.8, bins=np.arange(0,12,0.5),normed = True)\n",
    "    plt.title('long_hip_width, plane %s'%x)    \n",
    "    plt.plot()"
   ]
  },
  {
   "cell_type": "code",
   "execution_count": null,
   "metadata": {
    "collapsed": false,
    "scrolled": true
   },
   "outputs": [],
   "source": [
    "for x in xrange(3):\n",
    "    plt.figure()\n",
    "    plt.hist(np.nan_to_num(bak_cluster_plane_df.query('plane==@x').long_mip_width),\n",
    "            color='blue', alpha=0.8, bins=np.arange(0,20,0.5),normed = True)\n",
    "    plt.hist(np.nan_to_num(sig_cluster_plane_df.query('plane==@x').long_mip_width),\n",
    "            color='red', alpha=0.8, bins=np.arange(0,20,0.5),normed = True)\n",
    "    plt.title('long_mip_width, plane %s'%x)    \n",
    "    plt.plot()"
   ]
  },
  {
   "cell_type": "code",
   "execution_count": null,
   "metadata": {
    "collapsed": false,
    "scrolled": true
   },
   "outputs": [],
   "source": [
    "#why long qsum per plane does not agree with the sum over 3 planes ???\n",
    "for x in xrange(3):\n",
    "    plt.figure()\n",
    "    plt.hist(np.nan_to_num(bak_cluster_plane_df.query('plane==@x').long_hip_qsum),\n",
    "            color='blue', alpha=0.8, bins=np.arange(10,1500,50),normed = True)\n",
    "    plt.hist(np.nan_to_num(sig_cluster_plane_df.query('plane==@x').long_hip_qsum),\n",
    "            color='red', alpha=0.8, bins=np.arange(10,1500,50),normed = True)\n",
    "    plt.title('long_hip_qsum, plane %s'%x)  \n",
    "    plt.xticks(rotation = 'vertical')\n",
    "    plt.plot()"
   ]
  },
  {
   "cell_type": "code",
   "execution_count": null,
   "metadata": {
    "collapsed": false,
    "scrolled": true
   },
   "outputs": [],
   "source": [
    "for x in xrange(3):\n",
    "    plt.figure()\n",
    "    plt.hist(np.nan_to_num(bak_cluster_plane_df.query('plane==@x').long_hip_qavg),\n",
    "            color='blue', alpha=0.8, bins=np.arange(10,200,5),normed = True)\n",
    "    plt.hist(np.nan_to_num(sig_cluster_plane_df.query('plane==@x').long_hip_qavg),\n",
    "            color='red', alpha=0.8, bins=np.arange(10,200,5),normed = True)\n",
    "    plt.title('long_hip_qavg, plane %s'%x)    \n",
    "    plt.plot()"
   ]
  },
  {
   "cell_type": "code",
   "execution_count": null,
   "metadata": {
    "collapsed": false,
    "scrolled": true
   },
   "outputs": [],
   "source": [
    "for x in xrange(3):\n",
    "    plt.figure()\n",
    "    plt.hist(np.nan_to_num(bak_cluster_plane_df.query('plane==@x').long_hip_npx),\n",
    "            color='blue', alpha=0.8, bins=np.arange(10,200,5),normed = True)\n",
    "    plt.hist(np.nan_to_num(sig_cluster_plane_df.query('plane==@x').long_hip_npx),\n",
    "            color='red', alpha=0.8, bins=np.arange(10,200,5),normed = True)\n",
    "    plt.title('long_hip_npx, plane %s'%x)    \n",
    "    plt.plot()"
   ]
  },
  {
   "cell_type": "code",
   "execution_count": null,
   "metadata": {
    "collapsed": false,
    "scrolled": true
   },
   "outputs": [],
   "source": [
    "for x in xrange(3):\n",
    "    plt.figure()\n",
    "    plt.hist(np.nan_to_num(bak_cluster_plane_df.query('plane==@x').long_mip_npx),\n",
    "            color='blue', alpha=0.8, bins=np.arange(10,200,5),normed = True)\n",
    "    plt.hist(np.nan_to_num(sig_cluster_plane_df.query('plane==@x').long_mip_npx),\n",
    "            color='red', alpha=0.8, bins=np.arange(10,200,5),normed = True)\n",
    "    plt.title('long_mip_npx, plane %s'%x)    \n",
    "    plt.plot()"
   ]
  },
  {
   "cell_type": "code",
   "execution_count": null,
   "metadata": {
    "collapsed": false,
    "scrolled": true
   },
   "outputs": [],
   "source": [
    "for x in xrange(3):\n",
    "    plt.figure()\n",
    "    plt.hist(np.nan_to_num(bak_cluster_plane_df.query('plane==@x').long_hip_angle),\n",
    "            color='blue', alpha=0.8, bins=np.arange(-90,90,5),normed = True)\n",
    "    plt.hist(np.nan_to_num(sig_cluster_plane_df.query('plane==@x').long_hip_angle),\n",
    "            color='red', alpha=0.8, bins=np.arange(-90,90,5),normed = True)\n",
    "    plt.title('long_hip_angle, plane %s'%x)    \n",
    "    plt.plot()"
   ]
  },
  {
   "cell_type": "code",
   "execution_count": null,
   "metadata": {
    "collapsed": false,
    "scrolled": true
   },
   "outputs": [],
   "source": [
    "for x in xrange(3):\n",
    "    plt.figure()\n",
    "    plt.hist(np.nan_to_num(bak_cluster_plane_df.query('plane==@x').long_mip_angle),\n",
    "            color='blue', alpha=0.8, bins=np.arange(-90,90,5),normed = True)\n",
    "    plt.hist(np.nan_to_num(sig_cluster_plane_df.query('plane==@x').long_mip_angle),\n",
    "            color='red', alpha=0.8, bins=np.arange(-90,90,5),normed = True)\n",
    "    plt.title('long_mip_angle, plane %s'%x)    \n",
    "    plt.plot()"
   ]
  },
  {
   "cell_type": "code",
   "execution_count": null,
   "metadata": {
    "collapsed": true
   },
   "outputs": [],
   "source": []
  },
  {
   "cell_type": "code",
   "execution_count": null,
   "metadata": {
    "collapsed": true
   },
   "outputs": [],
   "source": []
  },
  {
   "cell_type": "code",
   "execution_count": null,
   "metadata": {
    "collapsed": true
   },
   "outputs": [],
   "source": []
  },
  {
   "cell_type": "code",
   "execution_count": null,
   "metadata": {
    "collapsed": true
   },
   "outputs": [],
   "source": []
  },
  {
   "cell_type": "code",
   "execution_count": null,
   "metadata": {
    "collapsed": true
   },
   "outputs": [],
   "source": []
  },
  {
   "cell_type": "code",
   "execution_count": null,
   "metadata": {
    "collapsed": true
   },
   "outputs": [],
   "source": []
  },
  {
   "cell_type": "code",
   "execution_count": null,
   "metadata": {
    "collapsed": true
   },
   "outputs": [],
   "source": []
  },
  {
   "cell_type": "code",
   "execution_count": null,
   "metadata": {
    "collapsed": true
   },
   "outputs": [],
   "source": []
  }
 ],
 "metadata": {
  "kernelspec": {
   "display_name": "Python 2",
   "language": "python",
   "name": "python2"
  },
  "language_info": {
   "codemirror_mode": {
    "name": "ipython",
    "version": 2
   },
   "file_extension": ".py",
   "mimetype": "text/x-python",
   "name": "python",
   "nbconvert_exporter": "python",
   "pygments_lexer": "ipython2",
   "version": "2.7.10"
  }
 },
 "nbformat": 4,
 "nbformat_minor": 0
}
