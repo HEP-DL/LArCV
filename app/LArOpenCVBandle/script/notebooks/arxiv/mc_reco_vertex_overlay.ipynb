{
 "cells": [
  {
   "cell_type": "code",
   "execution_count": null,
   "metadata": {
    "collapsed": false
   },
   "outputs": [],
   "source": [
    "%matplotlib inline\n",
    "\n",
    "import ROOT, sys, os\n",
    "from ROOT import std\n",
    "\n",
    "from larcv import larcv\n",
    "from larlite import larlite as ll\n",
    "from larlite import larutil as lu\n",
    "\n",
    "import numpy as np\n",
    "import matplotlib\n",
    "import matplotlib.pyplot as plt\n",
    "import matplotlib.path as path\n",
    "import matplotlib.patches as patches\n",
    "\n",
    "from ROOT import geo2d,cv\n",
    "from ROOT.cv import Point_ as Vector\n",
    "DTYPE='float'\n",
    "\n",
    "import root_numpy as rn\n",
    "import pandas as pd\n",
    "\n",
    "geoh=lu.GeometryHelper.GetME()\n",
    "geo=lu.Geometry.GetME()\n",
    "larp=lu.LArProperties.GetME()\n",
    "pygeo = geo2d.PyDraw()"
   ]
  },
  {
   "cell_type": "code",
   "execution_count": null,
   "metadata": {
    "collapsed": false
   },
   "outputs": [],
   "source": [
    "reco_df = pd.DataFrame(rn.root2rec(\"../reco_ana.root\",treename='LArbysImageTree'))\n",
    "mc_df   = pd.DataFrame(rn.root2rec(\"../mc_ana.root\",treename='mctree'))"
   ]
  },
  {
   "cell_type": "code",
   "execution_count": null,
   "metadata": {
    "collapsed": false
   },
   "outputs": [],
   "source": [
    "iom=larcv.IOManager(larcv.IOManager.kBOTH)        \n",
    "iom.reset()\n",
    "iom.set_verbosity(0)                                                                          \n",
    "iom.add_in_file(\"/Users/vgenty/Desktop/out_0000_0099.root\")\n",
    "iom.set_out_file(\"/tmp/trash.root\")\n",
    "iom.initialize()\n",
    "\n",
    "larbysimg=larcv.LArbysImage()\n",
    "cfg=larcv.CreatePSetFromFile(\"empty.fcl\",\"LArbysImage\")\n",
    "larbysimg.configure(cfg)\n",
    "larbysimg.initialize()"
   ]
  },
  {
   "cell_type": "code",
   "execution_count": null,
   "metadata": {
    "collapsed": false,
    "scrolled": true
   },
   "outputs": [],
   "source": [
    "for entry in reco_idx.values:\n",
    "    iom.read_entry(entry)\n",
    "    larbysimg.process(iom)\n",
    "    mgr=larbysimg.Manager()\n",
    "    \n",
    "    img_v = []\n",
    "\n",
    "    fig,ax=plt.subplots(figsize=(20,20))\n",
    "    maxx=0;minx=9999\n",
    "    maxy=0;miny=9999\n",
    "    plane=0\n",
    "\n",
    "    caca_img=np.zeros((485, 485))\n",
    "\n",
    "    for mat in mgr.InputImages():\n",
    "\n",
    "        img_v.append(pygeo.image(mat))\n",
    "        shape_img=np.where(img_v[plane]>1.5,1.0,0.0).astype(np.uint8)\n",
    "\n",
    "        plane+=1\n",
    "\n",
    "        nz_pixels=np.where(shape_img>0.0)\n",
    "        \n",
    "        maxx=np.maximum(maxx,np.max(nz_pixels[1])+100)\n",
    "        minx=np.minimum(minx,np.min(nz_pixels[1])-100)\n",
    "\n",
    "        maxy=np.maximum(maxy,np.max(nz_pixels[0])+100)\n",
    "        miny=np.minimum(miny,np.min(nz_pixels[0])-100)\n",
    "\n",
    "        caca_img+=shape_img\n",
    "\n",
    "    caca_img=np.where(caca_img>0,1.0,0.0)\n",
    "\n",
    "    plt.imshow(caca_img,cmap='Greys',interpolation='none')\n",
    "\n",
    "    for iy in xrange(reco_df.iloc[entry].n_circle_vtx):\n",
    "        x_v=reco_df.iloc[entry].circle_vtx_x_vv[iy]\n",
    "        y_v=reco_df.iloc[entry].circle_vtx_y_vv[iy]\n",
    "\n",
    "        for x,y in zip(x_v,y_v):\n",
    "            plt.plot(x,y,'*',color='orange',markersize=20)\n",
    "        \n",
    "        w_v=mc_df.iloc[entry].vtx2d_w\n",
    "        t_v=mc_df.iloc[entry].vtx2d_t\n",
    "        \n",
    "        for w,t in zip(w_v,t_v):\n",
    "            plt.plot(t,w,'*',color='yellow',markersize=20)\n",
    "\n",
    "    ax.set_title(\"Entry {}\".format(entry),fontweight='bold',fontsize=40)\n",
    "    #plt.savefig(\"reco_%04d.png\"%entry)\n",
    "    break\n",
    "    plt.show()"
   ]
  },
  {
   "cell_type": "code",
   "execution_count": null,
   "metadata": {
    "collapsed": false,
    "scrolled": false
   },
   "outputs": [],
   "source": [
    "reco_df_copy = reco_df.copy()\n",
    "\n",
    "cuts_v=[]\n",
    "cuts_v.append('n_vtx3d>0')\n",
    "\n",
    "for cut in cuts_v:\n",
    "    reco_df_copy = reco_df_copy.query(cut)"
   ]
  },
  {
   "cell_type": "code",
   "execution_count": null,
   "metadata": {
    "collapsed": false
   },
   "outputs": [],
   "source": [
    "reco_df_copy = reco_df_copy[reco_df_copy['vtx3d_num_planes_v'].apply(lambda x : np.where(x==3)[0].size)>0]"
   ]
  },
  {
   "cell_type": "code",
   "execution_count": null,
   "metadata": {
    "collapsed": false,
    "scrolled": false
   },
   "outputs": [],
   "source": [
    "def pixels(x):\n",
    "    y=np.hstack(x)\n",
    "    return np.where(y>0.9)[0].size\n",
    "\n",
    "reco_idx=reco_df_copy[reco_df_copy['num_pixel_frac_vv'].apply(pixels) > 0].index"
   ]
  },
  {
   "cell_type": "code",
   "execution_count": null,
   "metadata": {
    "collapsed": false
   },
   "outputs": [],
   "source": [
    "np3_v=reco_df.ix[reco_idx].vtx3d_num_planes_v.apply(lambda x : np.where(x==3)[0][0]).values"
   ]
  },
  {
   "cell_type": "code",
   "execution_count": null,
   "metadata": {
    "collapsed": false
   },
   "outputs": [],
   "source": [
    "dw_v=[]\n",
    "dt_v=[]\n",
    "for ix,idx in enumerate(reco_idx):\n",
    "    mc_t   = mc_df.ix[idx].vtx2d_w\n",
    "    mc_w   = mc_df.ix[idx].vtx2d_t\n",
    "    reco_w = reco_df.ix[idx].circle_vtx_x_vv[np3_v[ix]]\n",
    "    reco_t = reco_df.ix[idx].circle_vtx_y_vv[np3_v[ix]]\n",
    "    dw = mc_w - reco_w\n",
    "    dt = mc_t - reco_t\n",
    "    dw_v.append(dw)\n",
    "    dt_v.append(dt)\n",
    "dw_v = np.array(dw_v)\n",
    "dt_v = np.array(dt_v)"
   ]
  },
  {
   "cell_type": "code",
   "execution_count": null,
   "metadata": {
    "collapsed": false,
    "scrolled": false
   },
   "outputs": [],
   "source": [
    "matplotlib.rcParams['font.size']=20\n",
    "matplotlib.rcParams['font.family']='serif'\n",
    "fig,ax=plt.subplots(figsize=(10,6))\n",
    "for i in xrange(3):\n",
    "    ax.hist(dw_v[:,i],label='Plane {}'.format(i),bins=np.arange(-80,80,2),alpha=0.5)\n",
    "ax.set_xlabel(\"mc_w - reco_w [pixel]\",fontweight='bold')\n",
    "ax.legend()\n",
    "plt.grid()\n",
    "plt.show()\n",
    "\n",
    "fig,ax=plt.subplots(figsize=(10,6))\n",
    "for i in xrange(3):\n",
    "    ax.hist(dt_v[:,i],label='Plane {}'.format(i),bins=np.arange(-80,80,2),alpha=0.5)\n",
    "ax.set_xlabel(\"mc_t - reco_t [pixel]\",fontweight='bold')\n",
    "ax.legend()\n",
    "plt.grid()\n",
    "plt.show()\n",
    "\n",
    "\n",
    "for i in xrange(3):\n",
    "    fig,ax=plt.subplots(figsize=(10,6))\n",
    "    ax.hist(np.sqrt(np.power(dw_v[:,i],2)+np.power(dt_v[:,i],2)),\n",
    "            label='Plane {}'.format(i),bins=np.arange(0,100,1),alpha=0.5,lw=2)\n",
    "    ax.set_xlabel(\"dist 2D mc->reco [pixel]\",fontweight='bold')\n",
    "    ax.set_ylim(0,15)\n",
    "    ax.legend()\n",
    "    plt.grid()\n",
    "    plt.show()\n"
   ]
  }
 ],
 "metadata": {
  "kernelspec": {
   "display_name": "Python 2",
   "language": "python",
   "name": "python2"
  },
  "language_info": {
   "codemirror_mode": {
    "name": "ipython",
    "version": 2
   },
   "file_extension": ".py",
   "mimetype": "text/x-python",
   "name": "python",
   "nbconvert_exporter": "python",
   "pygments_lexer": "ipython2",
   "version": "2.7.10"
  }
 },
 "nbformat": 4,
 "nbformat_minor": 0
}
