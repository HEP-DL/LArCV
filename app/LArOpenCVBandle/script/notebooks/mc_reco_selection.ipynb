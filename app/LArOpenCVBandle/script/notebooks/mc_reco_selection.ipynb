{
 "cells": [
  {
   "cell_type": "code",
   "execution_count": null,
   "metadata": {
    "collapsed": false
   },
   "outputs": [],
   "source": [
    "%matplotlib inline\n",
    "\n",
    "import ROOT, sys, os\n",
    "from ROOT import std\n",
    "\n",
    "from larcv import larcv\n",
    "from larlite import larlite as ll\n",
    "from larlite import larutil as lu\n",
    "\n",
    "import numpy as np\n",
    "import matplotlib\n",
    "import matplotlib.pyplot as plt\n",
    "import matplotlib.path as path\n",
    "import matplotlib.patches as patches\n",
    "\n",
    "from ROOT import geo2d,cv\n",
    "from ROOT.cv import Point_ as Vector\n",
    "DTYPE='float'\n",
    "\n",
    "import root_numpy as rn\n",
    "import pandas as pd\n",
    "\n",
    "geoh=lu.GeometryHelper.GetME()\n",
    "geo=lu.Geometry.GetME()\n",
    "larp=lu.LArProperties.GetME()\n",
    "pygeo = geo2d.PyDraw()"
   ]
  },
  {
   "cell_type": "code",
   "execution_count": null,
   "metadata": {
    "collapsed": false
   },
   "outputs": [],
   "source": [
    "reco_df = pd.DataFrame(rn.root2rec(\"../reco_ana.root\",treename='LArbysImageTree'))\n",
    "mc_df   = pd.DataFrame(rn.root2rec(\"../mc_ana.root\",treename='mctree'))"
   ]
  },
  {
   "cell_type": "code",
   "execution_count": null,
   "metadata": {
    "collapsed": false
   },
   "outputs": [],
   "source": [
    "#Calculating the signal denomenator...\n",
    "pdg2mass={}\n",
    "pdg2mass[13]  = 105\n",
    "pdg2mass[2212]= 938\n",
    "pdg2mass[2112]= 939.5\n",
    "pdg2mass[11]  = 0#0.5\n",
    "pdg2mass[311] = 497.65\n",
    "def mass(pdg):\n",
    "    return pdg2mass[pdg]\n",
    "mass_vec=np.vectorize(mass)\n",
    "\n",
    "mc_wdf=mc_df.copy()\n",
    "print mc_wdf.index.size\n",
    "mc_wdf=mc_wdf.query('energyInit > 100 & energyInit < 500')\n",
    "print mc_wdf.index.size\n",
    "mc_wdf=mc_wdf[mc_wdf.daughterPdg_v.apply(lambda x : x.size>=2)]\n",
    "print mc_wdf.index.size\n",
    "\n",
    "def containment(row):\n",
    "    pdg_v   = row['daughterPdg_v']\n",
    "    einit_v = row['daughterEnergyInit_v']\n",
    "    edep_v  = row['daughterEnergyDep_v']\n",
    "    \n",
    "    eisub_v=einit_v-mass_vec(pdg_v)\n",
    "  \n",
    "    init_sum = eisub_v.sum()\n",
    "    dep_sum  = edep_v.sum()\n",
    "    \n",
    "    proton_v=eisub_v[np.where(pdg_v==2212)[0]]\n",
    "    \n",
    "    if(np.where(proton_v>80)[0].size>0): pass\n",
    "    else: return False;\n",
    "        \n",
    "    if dep_sum / init_sum < 0.9: return False;\n",
    "\n",
    "    return True;\n",
    "    \n",
    "mc_wdf=mc_wdf[mc_wdf.apply(containment,axis=1)]\n",
    "mc_wdf_idx = mc_wdf.index"
   ]
  },
  {
   "cell_type": "code",
   "execution_count": null,
   "metadata": {
    "collapsed": false
   },
   "outputs": [],
   "source": [
    "#Calculating the efficiency numerator\n",
    "#reco_df_copy will have out analysis cuts built in\n",
    "reco_wdf = reco_df.ix[mc_wdf_idx].copy()\n",
    "\n",
    "cuts_v=[]\n",
    "cuts_v.append('n_vtx3d>0')\n",
    "\n",
    "for cut in cuts_v:\n",
    "    reco_wdf = reco_wdf.query(cut)\n",
    "\n",
    "print reco_wdf.index.size\n",
    "\n",
    "#filter vertices from, only care about the events that have\n",
    "#vertex estimated from 3 planes\n",
    "reco_wdf = reco_wdf[reco_wdf['num_planes_v'].apply(lambda x : np.where(x==3)[0].size)>0]\n",
    "\n",
    "print reco_wdf.index.size\n",
    "\n",
    "#cut on the pixel frac\n",
    "#pxfrac=0.9\n",
    "#def pixels(x):\n",
    "#    y=np.hstack(x)\n",
    "#    return np.where(y>pxfrac)[0].size\n",
    "\n",
    "#reco_wdf=reco_wdf[reco_wdf['num_pixel_frac_vv'].apply(pixels) > 0]"
   ]
  },
  {
   "cell_type": "code",
   "execution_count": null,
   "metadata": {
    "collapsed": true
   },
   "outputs": [],
   "source": [
    "#Lets look @ some resolution\n"
   ]
  }
 ],
 "metadata": {
  "kernelspec": {
   "display_name": "Python 2",
   "language": "python",
   "name": "python2"
  },
  "language_info": {
   "codemirror_mode": {
    "name": "ipython",
    "version": 2
   },
   "file_extension": ".py",
   "mimetype": "text/x-python",
   "name": "python",
   "nbconvert_exporter": "python",
   "pygments_lexer": "ipython2",
   "version": "2.7.10"
  }
 },
 "nbformat": 4,
 "nbformat_minor": 0
}
