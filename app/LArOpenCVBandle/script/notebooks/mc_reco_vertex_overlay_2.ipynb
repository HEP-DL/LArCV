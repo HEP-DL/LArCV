{
 "cells": [
  {
   "cell_type": "code",
   "execution_count": null,
   "metadata": {
    "collapsed": false
   },
   "outputs": [],
   "source": [
    "%matplotlib inline\n",
    "import ROOT, sys, os\n",
    "from ROOT import std\n",
    "from larcv import larcv\n",
    "from larlite import larlite as ll\n",
    "from larlite import larutil as lu\n",
    "import numpy as np\n",
    "import matplotlib\n",
    "import matplotlib.pyplot as plt\n",
    "import matplotlib.path as path\n",
    "import matplotlib.patches as patches\n",
    "from ROOT import geo2d,cv\n",
    "from ROOT.cv import Point_ as Vector\n",
    "DTYPE='float'\n",
    "import root_numpy as rn\n",
    "import pandas as pd\n",
    "geoh=lu.GeometryHelper.GetME()\n",
    "geo=lu.Geometry.GetME()\n",
    "larp=lu.LArProperties.GetME()\n",
    "pygeo = geo2d.PyDraw()"
   ]
  },
  {
   "cell_type": "code",
   "execution_count": null,
   "metadata": {
    "collapsed": false
   },
   "outputs": [],
   "source": [
    "reco_df = pd.DataFrame(rn.root2rec(\"../reco_ana.root\",treename='LArbysImageTree'))\n",
    "mc_df   = pd.DataFrame(rn.root2rec(\"../mc_ana.root\",treename='mctree'))"
   ]
  },
  {
   "cell_type": "code",
   "execution_count": null,
   "metadata": {
    "collapsed": false
   },
   "outputs": [],
   "source": [
    "print len(mc_df), len(reco_df)"
   ]
  },
  {
   "cell_type": "code",
   "execution_count": null,
   "metadata": {
    "collapsed": false,
    "scrolled": true
   },
   "outputs": [],
   "source": [
    "#reco_df.iloc[145]\n",
    "#print reco_df.iloc[322]['n_vtx3d']\n",
    "#reco_df"
   ]
  },
  {
   "cell_type": "code",
   "execution_count": null,
   "metadata": {
    "collapsed": false
   },
   "outputs": [],
   "source": [
    "a=0\n",
    "data_out = []\n",
    "mclist = []\n",
    "pdg2mass={}\n",
    "pdg2mass[13]=105\n",
    "pdg2mass[2212]=938\n",
    "pdg2mass[2112]=939.5\n",
    "pdg2mass[11]=0#0.5\n",
    "pdg2mass[311]=497.65\n",
    "ctor = 0\n",
    "for entry in xrange(len(mc_df)):\n",
    "    event = []\n",
    "\n",
    "    #if(mc_df.iloc[entry]['event']- reco_df.iloc[entry]['event']): continue\n",
    "    # 1st cut on neutrino energy 100-500 MeV\n",
    "    if mc_df.iloc[entry]['energyInit']<100 or mc_df.iloc[entry]['energyInit']>500 : continue\n",
    "    # 2nd cut looking for both visible an invisible V-shape events\n",
    "    if mc_df.iloc[entry]['daughterPdg_v'].size <2 : continue\n",
    "    #if mc_df.iloc[entry]['daughterPdg_v'].size ==2 : mclist.append(entry)\n",
    "    # keep contained events\n",
    "    for idx, row in mc_df.iterrows():        \n",
    "        if idx != entry: continue\n",
    "        init_sum = 0\n",
    "        dep_sum  = 0 \n",
    "        proton_length_flag = 0\n",
    "        for pdg,e_ini in zip(row.daughterPdg_v,row.daughterEnergyInit_v):\n",
    "            init_sum += e_ini-pdg2mass[pdg]\n",
    "            #if(pdg == 2212 and e_ini>80): proton_length_flag +=1\n",
    "            if(pdg == 2212 and e_ini-pdg2mass[pdg]>80): proton_length_flag +=1\n",
    "            #if idx == 7 and pdg == 2212 : print 'haha', e_ini-pdg2mass[pdg], proton_length_flag\n",
    "        for pdg,e_dep in zip(row.daughterPdg_v,row.daughterEnergyDep_v):\n",
    "            dep_sum  += e_dep\n",
    "        #if (dep_sum/init_sum < 0.9 or proton_length_flag<1): continue\n",
    "        # 3rd cut on energy deposition\n",
    "        if dep_sum/init_sum < 0.9 : continue\n",
    "        # 4th cut on proton length\n",
    "        if proton_length_flag<1: continue\n",
    "        ctor+=1        \n",
    "\n",
    "        #print proton_length_flag, idx, entry\n",
    "\n",
    "        #print ctor\n",
    "        #ctor+=1\n",
    "        \n",
    "        event.append(entry)\n",
    "        event.append(row.daughterPdg_v)\n",
    "        event.append(row.daughterEnergyInit_v)\n",
    "        event.append(row.daughterEnergyDep_v)\n",
    "        #print event\n",
    "        mclist.append(entry)\n",
    "        data_out.append(event)\n",
    "print 'data_out size is', len(data_out)\n",
    "print 'mclist size is ' ,len(mclist)\n",
    "\n",
    "print mclist\n",
    "#print data_out\n",
    "recolist=[]\n",
    "\n",
    "#for entry in xrange(len(mc_df)):\n",
    "for entry in mclist :\n",
    "    #if entry == 322 or entry ==324: continue\n",
    "    #print entry, reco_df.iloc[entry]['n_vtx3d']\n",
    "    \n",
    "    if reco_df.iloc[entry]['n_vtx3d'] >0: \n",
    "        flag=0\n",
    "        #for num_plane in reco_df.iloc[entry]['vtx3d_num_planes_v']:\n",
    "        for num_plane in reco_df.iloc[entry]['num_planes_v']:\n",
    "            if num_plane ==3  :flag+=1 \n",
    "        \n",
    "        #if flag > 0: recolist.append(entry)\n",
    "        recolist.append(entry)\n",
    "\n",
    "print 'recolist size is ',len(recolist)\n",
    "print recolist\n",
    "print ctor"
   ]
  },
  {
   "cell_type": "markdown",
   "metadata": {},
   "source": [
    "recolist size is  28\n",
    "[8, 9, 23, 29, 42, 52, 55, 65, 93, 107, 114, 119, 125, 142, 145, 150, \n",
    " 165, 175, 183, 204, 205, 211, 219, 226, 228, 229, 254, 266]"
   ]
  },
  {
   "cell_type": "code",
   "execution_count": null,
   "metadata": {
    "collapsed": false,
    "scrolled": false
   },
   "outputs": [],
   "source": [
    "r=[]\n",
    "#print len(mclist)\n",
    "for entry in mclist:\n",
    "    for ix,row in mc_df.iterrows():\n",
    "        if ix != entry: continue\n",
    "        #print ix\n",
    "        #print entry,row.daughterPdg_v, row.daughterEnergyInit_v\n",
    "        for pdg,e in zip(row.daughterPdg_v,\n",
    "                     row.daughterEnergyInit_v):\n",
    "            #print pdg\n",
    "            #print '########'\n",
    "            #if ix ==186 and pdg ==11 : r.append(e)\n",
    "            if pdg ==13 : r.append(e)\n",
    "            \n",
    "        #print \"init:\",pdg,e\n",
    "        #print init_sum\n",
    "       \n",
    "    #if dep_sum / init_sum>0.9 : idx.append(ix)\n",
    "print len(r)\n",
    "r=np.asarray(r)\n",
    "#print np.where(r>0.9)[0].size\n",
    "fig,ax=plt.subplots(figsize=(6,5))\n",
    "\n",
    "#a,_,_=plt.hist(r,bins=np.arange(0,1.0+0.025,0.025))\n",
    "a,_,_=plt.hist(r,bins=np.arange(0,500,20))\n",
    "ax.set_ylim(0,15)\n",
    "ax.grid()\n",
    "ax.set_title('%i lepton Ini energy'%len(mclist))"
   ]
  },
  {
   "cell_type": "code",
   "execution_count": null,
   "metadata": {
    "collapsed": false
   },
   "outputs": [],
   "source": [
    "#Draw distance between 3D vtx\n",
    "dist=[]\n",
    "ctr =0\n",
    "shit=0\n",
    "for entry in xrange(len(reco_df)):\n",
    "    #if mc_df.iloc[entry]['daughterPdg_v'].size!=2: continue\n",
    "    vtx_mc   = [mc_df.iloc[entry]['parentX'],mc_df.iloc[entry]['parentY'],mc_df.iloc[entry]['parentZ']]\n",
    "    if reco_df.iloc[entry]['vtx3d_x_v'].size<1 : continue\n",
    "    ctr+=1\n",
    "    for vtx_idx in xrange(reco_df.iloc[entry]['vtx3d_x_v'].size):\n",
    "        vtx_reco = [reco_df.iloc[entry]['vtx3d_x_v'][vtx_idx],reco_df.iloc[entry]['vtx3d_y_v'][vtx_idx],\n",
    "                    reco_df.iloc[entry]['vtx3d_z_v'][vtx_idx]]\n",
    "\n",
    "        dist_v = ((vtx_mc[0]-vtx_reco[0])**2+(vtx_mc[1]-vtx_reco[1])**2+(vtx_mc[2]-vtx_reco[2])**2)**0.5\n",
    "        if dist_v<40 : shit+=1\n",
    "        dist.append(dist_v)\n",
    "   \n",
    "    #if(mc_df.iloc[entry]['energyDeposit']>100 and mc_df.iloc[entry]['energyDeposit']<500 ) :shit+=1\n",
    "    #print entry\n",
    "\n",
    "fig,ax=plt.subplots(figsize=(5,5))\n",
    "shit = np.asarray(dist)\n",
    "#n, bins = np.histogram(shit, 10)\n",
    "n, bins, patches = plt.hist(shit, 50, normed=1, facecolor='green', alpha=0.5)\n",
    "ax.set_title(\"3D vertex Distance[MC-Reco]\")\n",
    "ax.set_xlabel(\"cm\")\n",
    "#ax.set_xlim(0,10)\n",
    "print ctr"
   ]
  },
  {
   "cell_type": "code",
   "execution_count": null,
   "metadata": {
    "collapsed": false,
    "scrolled": true
   },
   "outputs": [],
   "source": [
    "#getting V shape events, Nov_8 it is 106\n",
    "#getting V shape events with a proton, Nov_8 it is 89\n",
    "\n",
    "recolist=[]\n",
    "mclist=[]\n",
    "\n",
    "num_p = 0\n",
    "\n",
    "for entry in xrange(len(mc_df)):\n",
    "    if mc_df.iloc[entry]['daughterPdg_v'].size !=2 : continue\n",
    "    if mc_df.iloc[entry]['daughterPdg_v'].size ==2 : mclist.append(entry)\n",
    "    if(mc_df.iloc[entry]['event']- reco_df.iloc[entry]['event']): continue\n",
    "    if reco_df.iloc[entry]['n_vtx3d'] >0: recolist.append(entry)\n",
    "    \n",
    "    flag=0\n",
    "    for x in mc_df.iloc[entry]['daughterPdg_v']:\n",
    "        if x ==2212: flag+=1\n",
    "    if flag>0 : num_p+=1\n",
    "    if flag>1 : print 'shit',entry        \n",
    "print len(mclist)#, len(recolist)\n",
    "#print recolist\n",
    "#print mclist\n",
    "#print reco_df.index.size\n",
    "print num_p\n",
    "\n"
   ]
  },
  {
   "cell_type": "code",
   "execution_count": null,
   "metadata": {
    "collapsed": false
   },
   "outputs": [],
   "source": [
    "#0) 1 or more reco 3D vertex\n",
    "#1) atleast 1 vertex in the plane is reconstructed from 3 planes\n",
    "recolist=[]\n",
    "\n",
    "#for entry in xrange(len(mc_df)):\n",
    "for entry in mclist :\n",
    "    if reco_df.iloc[entry]['n_vtx3d'] >0: \n",
    "        flag=0\n",
    "        for num_plane in reco_df.iloc[entry]['vtx3d_num_planes_v']:\n",
    "            if num_plane ==3 :flag+=1 \n",
    "        \n",
    "        if flag > 0: recolist.append(entry)\n",
    "\n",
    "print len(recolist)"
   ]
  },
  {
   "cell_type": "code",
   "execution_count": null,
   "metadata": {
    "collapsed": false
   },
   "outputs": [],
   "source": [
    "fig,ax=plt.subplots(figsize=(5,5))\n",
    "\n",
    "r=[]\n",
    "pdg2mass={}\n",
    "pdg2mass[13]=105\n",
    "pdg2mass[2212]=938\n",
    "pdg2mass[2112]=939.5\n",
    "pdg2mass[11]=0#0.5\n",
    "pdg2mass[311]=497.65\n",
    "\n",
    "for ix,row in mc_df.iterrows():\n",
    "    init_sum=0\n",
    "    dep_sum=0\n",
    "    for pdg,e in zip(row.daughterPdg_v,\n",
    "                     row.daughterEnergyInit_v):\n",
    "        init_sum += e-pdg2mass[pdg]\n",
    "            #print \"init:\",pdg,e\n",
    "    for pdg,e in zip(row.daughterPdg_v,\n",
    "                     row.daughterEnergyDep_v):\n",
    "        #if pdg == 2212: dep_sum += e-pdg2mass[pdg]\n",
    "        dep_sum += e\n",
    "        #print \"dep:\",pdg,e\n",
    "    r.append(-dep_sum + init_sum)\n",
    "    \n",
    "r=np.asarray(r)\n",
    "#print np.where(r>0.9)[0].size\n",
    "#a,_,_=plt.hist(r,bins=np.arange(0,1.0+0.025,0.025))\n",
    "a,_,_=plt.hist(r,bins=np.arange(-500,500,10))\n",
    "#print a.sum()\n",
    "ax.set_ylim(0,200)\n",
    "ax.set_title(\"ini_tot - dep_tot\")"
   ]
  },
  {
   "cell_type": "code",
   "execution_count": null,
   "metadata": {
    "collapsed": false,
    "scrolled": true
   },
   "outputs": [],
   "source": [
    "idx=[]\n",
    "r=[]\n",
    "pdg2mass={}\n",
    "pdg2mass[13]=105        #muon\n",
    "pdg2mass[2212]=938      #proton\n",
    "pdg2mass[2112]=939.5    #neutron\n",
    "pdg2mass[11]=0          #electron\n",
    "pdg2mass[2114]=1232     #delta0\n",
    "pdg2mass[9010111]=134   #pi0\n",
    "\n",
    "for ix,row in mc_df.iterrows():\n",
    "    init_sum=0\n",
    "    dep_sum=0\n",
    "    for pdg,e in zip(row.daughterPdg_v,\n",
    "                     row.daughterEnergyInit_v):\n",
    "        init_sum += e-pdg2mass[pdg]\n",
    "        #print \"init:\",pdg,e\n",
    "    for pdg,e in zip(row.daughterPdg_v,\n",
    "                     row.daughterEnergyDep_v):\n",
    "        dep_sum += e\n",
    "        #print \"dep:\",pdg,e\n",
    "    r.append(dep_sum / init_sum)\n",
    "    if dep_sum / init_sum>0.9 : idx.append(ix)\n",
    "    \n",
    "r=np.asarray(r)\n",
    "print np.where(r>0.9)[0].size\n",
    "a,_,_=plt.hist(r,bins=np.arange(0,1.0+0.025,0.025))\n",
    "print a.sum()\n",
    "print len(idx)\n",
    "\n",
    "recolist=[]\n",
    "\n",
    "for entry in idx:\n",
    "    if reco_df.iloc[entry]['n_vtx3d'] >0: \n",
    "        flag=0\n",
    "        for num_plane in reco_df.iloc[entry]['vtx3d_num_planes_v']:\n",
    "            if num_plane ==3 :flag+=1 \n",
    "        \n",
    "        if flag > 0: recolist.append(entry)\n",
    "\n",
    "for x in mc_df.iloc[entry]['daughterPdg_v']:\n",
    "    if x ==2212: num_p+=1\n",
    "            \n",
    "print len(recolist)\n",
    "\n",
    "print recolist\n"
   ]
  },
  {
   "cell_type": "code",
   "execution_count": null,
   "metadata": {
    "collapsed": false
   },
   "outputs": [],
   "source": [
    "print pdg2mass"
   ]
  },
  {
   "cell_type": "code",
   "execution_count": null,
   "metadata": {
    "collapsed": false
   },
   "outputs": [],
   "source": [
    "idx=[]\n",
    "r=[]\n",
    "pdg2mass={}\n",
    "pdg2mass[13]=105        #muon\n",
    "pdg2mass[2212]=938      #proton\n",
    "pdg2mass[2112]=939.5    #neutron\n",
    "pdg2mass[11]=0          #electron\n",
    "pdg2mass[2114]=1232     #delta0\n",
    "pdg2mass[9010111]=134   #pi0\n",
    "\n",
    "for ix,row in mc_df.iterrows():\n",
    "    if mc_df.iloc[ix]['daughterPdg_v'].size !=2 : continue\n",
    "    if mc_df.iloc[ix]['daughterPdg_v'].size ==2 : mclist.append(entry)\n",
    "    if(mc_df.iloc[ix]['event']- reco_df.iloc[ix]['event']): continue\n",
    "    if reco_df.iloc[ix]['n_vtx3d'] >0: recolist.append(entry)\n",
    "    \n",
    "    init_sum=0\n",
    "    dep_sum=0\n",
    "    for pdg,e in zip(row.daughterPdg_v,\n",
    "                     row.daughterEnergyInit_v):\n",
    "        \n",
    "        if pdg ==2212 : init_sum = (e-pdg2mass[pdg])/7.5\n",
    "        #print \"init:\",pdg,e\n",
    "        #print init_sum\n",
    "    r.append(init_sum)\n",
    "    #if dep_sum / init_sum>0.9 : idx.append(ix)\n",
    "    \n",
    "r=np.asarray(r)\n",
    "#print np.where(r>0.9)[0].size\n",
    "\n",
    "#a,_,_=plt.hist(r,bins=np.arange(0,1.0+0.025,0.025))\n",
    "a,_,_=plt.hist(r,bins=np.arange(0,500,1))\n",
    "ax.set_ylim(0,10)\n"
   ]
  },
  {
   "cell_type": "code",
   "execution_count": null,
   "metadata": {
    "collapsed": false
   },
   "outputs": [],
   "source": [
    "#Here we have selected events with >90% energy depostion and also the shorter track\n",
    "r=[]\n",
    "pdg2mass={}\n",
    "pdg2mass[13]=105        #muon\n",
    "pdg2mass[2212]=938      #proton\n",
    "pdg2mass[2112]=939.5    #neutron\n",
    "pdg2mass[11]=0          #electron\n",
    "pdg2mass[2114]=1232     #delta0\n",
    "pdg2mass[9010111]=134   #pi0\n",
    "\n",
    "for ix,row in mc_df.iterrows():\n",
    "    init_sum=0\n",
    "    dep_sum=0\n",
    "    for pdg,e in zip(row.daughterPdg_v,\n",
    "                     row.daughterEnergyInit_v):\n",
    "        init_sum += e-pdg2mass[pdg]\n",
    "        #print \"init:\",pdg,e\n",
    "        \n",
    "    for pdg,e in zip(row.daughterPdg_v,\n",
    "                     row.daughterEnergyDep_v):\n",
    "        dep_sum += e\n",
    "        #print \"dep:\",pdg,e\n",
    "    r.append(dep_sum / init_sum)\n",
    "    \n",
    "r=np.asarray(r)\n",
    "#print np.where(r>0.9)[0].size\n",
    "a,_,_=plt.hist(r,bins=np.arange(0,1.0+0.025,0.025))\n",
    "#print a.sum()\n"
   ]
  },
  {
   "cell_type": "markdown",
   "metadata": {},
   "source": [
    "recolist_0 = [8, 9, 23, 29, 42, 52, 55, 65, 93, 107, 114, 119, 125, 142, 145, 150, 165, 175, \n",
    "              183, 204, 205, 211, 219, 226, 228, 229, 254, 266]"
   ]
  },
  {
   "cell_type": "code",
   "execution_count": null,
   "metadata": {
    "collapsed": false
   },
   "outputs": [],
   "source": [
    "#reco_df"
   ]
  },
  {
   "cell_type": "code",
   "execution_count": null,
   "metadata": {
    "collapsed": false
   },
   "outputs": [],
   "source": [
    "a = np.asarray(reco_df.iloc[8].num_pixel_frac_vv[0])\n",
    "print a\n",
    "a.sum()"
   ]
  },
  {
   "cell_type": "code",
   "execution_count": null,
   "metadata": {
    "collapsed": false
   },
   "outputs": [],
   "source": [
    "recolist_0 = [8, 9, 23, 29, 42, 52, 55, 65, 93, 107, 114, 119, 125, 142, 145, 150, 165, \n",
    "              175, 183, 204, 205, 211, 219, 226, 228, 229, 254, 266]\n",
    "for plane in xrange(3):\n",
    "    vv=[]\n",
    "    for entry in recolist_0:\n",
    "        v_higer = []\n",
    "        v_sum = 0\n",
    "        for v in reco_df.iloc[entry].num_pixel_frac_vv:\n",
    "            if reco_df.iloc[entry].num_pixel_frac_vv.size == 1:\n",
    "                v_higer = v\n",
    "            if reco_df.iloc[entry].num_pixel_frac_vv.size > 1:\n",
    "                v_np = np.asarray(v)\n",
    "                if v_np.sum() > v_sum : \n",
    "                    v_higer = v\n",
    "                    v_sum = v_np.sum()\n",
    "            vv.append(v)\n",
    "\n",
    "for v in vv:\n",
    "    print v"
   ]
  },
  {
   "cell_type": "code",
   "execution_count": null,
   "metadata": {
    "collapsed": false
   },
   "outputs": [],
   "source": [
    "iom=larcv.IOManager(larcv.IOManager.kBOTH)        \n",
    "iom.reset()\n",
    "iom.set_verbosity(0)                                                                          \n",
    "iom.add_in_file(\"../out_0000_0099.root\")\n",
    "iom.add_in_file(\"../ccqe_0100_0199.root\")\n",
    "iom.add_in_file(\"../ccqe_0200_0299.root\")\n",
    "iom.set_out_file(\"/tmp/trash.root\")\n",
    "iom.initialize()\n",
    "\n",
    "larbysimg=larcv.LArbysImage()\n",
    "cfg=larcv.CreatePSetFromFile(\"empty.fcl\",\"LArbysImage\")\n",
    "larbysimg.configure(cfg)\n",
    "larbysimg.initialize()"
   ]
  },
  {
   "cell_type": "code",
   "execution_count": null,
   "metadata": {
    "collapsed": false
   },
   "outputs": [],
   "source": [
    "#mclist    = [8, 9, 23, 29, 42, 52, 55, 64, 65, 85, 93, 104, 107, 114, 119, 125, 139, 142, 145, 150, 165, 167, 175, 183, 204, 205, 211, 219, 226, 228, 229, 254, 255, 264, 266]\n",
    "#recolist  = [8, 9, 23, 52, 65, 93, 107, 114, 125, 142, 145, 150, 175, 204, 205, 211, 219, 226, 228, 229, 266]"
   ]
  },
  {
   "cell_type": "code",
   "execution_count": null,
   "metadata": {
    "collapsed": false
   },
   "outputs": [],
   "source": [
    "print recolist\n",
    "print len(recolist)\n",
    "print len(mclist)"
   ]
  },
  {
   "cell_type": "code",
   "execution_count": null,
   "metadata": {
    "collapsed": false,
    "scrolled": true
   },
   "outputs": [],
   "source": [
    "reco_df.iloc[10]\n",
    "#mc_df"
   ]
  },
  {
   "cell_type": "code",
   "execution_count": null,
   "metadata": {
    "collapsed": false
   },
   "outputs": [],
   "source": [
    "#print data_out[0]\n",
    "recolist_0 = [8, 9, 23, 29, 42, 52, 55,\n",
    "              65, 93, 107, 114, 119, 125, 142, 145, 150, 165, 175, 183, 204, 205, 211, 219, 226, 228, 229, 254, 266]"
   ]
  },
  {
   "cell_type": "code",
   "execution_count": null,
   "metadata": {
    "collapsed": false
   },
   "outputs": [],
   "source": [
    "print len(mclist)\n",
    "print mclist"
   ]
  },
  {
   "cell_type": "code",
   "execution_count": null,
   "metadata": {
    "collapsed": false
   },
   "outputs": [],
   "source": [
    "print len(recolist)"
   ]
  },
  {
   "cell_type": "code",
   "execution_count": null,
   "metadata": {
    "collapsed": false,
    "scrolled": true
   },
   "outputs": [],
   "source": [
    "colormap=['blue','red','magenta','green','orange','yellow','pink']\n",
    "faillist = []\n",
    "a=[10]\n",
    "#for entry in reco_idx.values:\n",
    "for entry in mclist:\n",
    "#for entry in a :\n",
    "    iom.read_entry(entry)\n",
    "    larbysimg.process(iom)\n",
    "    mgr=larbysimg.Manager()\n",
    "    \n",
    "    img_v = []\n",
    "###################################\n",
    "    fig,ax=plt.subplots(figsize=(20,20))\n",
    "    maxx=0;minx=9999\n",
    "    maxy=0;miny=9999\n",
    "    plane=0\n",
    "    caca_img=np.zeros((485, 485,3))\n",
    "    cc=-1\n",
    "    for mat in mgr.InputImages():\n",
    "        cc+=1\n",
    "        \n",
    "        img_v.append(pygeo.image(mat))\n",
    "        shape_img=np.where(img_v[plane]>1.5,1.0,0.0).astype(np.uint8)\n",
    "\n",
    "        plane+=1\n",
    "\n",
    "        nz_pixels=np.where(shape_img>0.0)\n",
    "        \n",
    "        maxx=np.maximum(maxx,np.max(nz_pixels[1])+100)\n",
    "        minx=np.minimum(minx,np.min(nz_pixels[1])-100)\n",
    "\n",
    "        maxy=np.maximum(maxy,np.max(nz_pixels[0])+100)\n",
    "        miny=np.minimum(miny,np.min(nz_pixels[0])-100)\n",
    "\n",
    "        caca_img[:,:,cc]=shape_img\n",
    "    caca_img=np.where(caca_img>0.0,1.0,255)\n",
    "    caca_img=caca_img.astype(np.uint8)\n",
    "    plt.imshow(caca_img,interpolation='none')\n",
    "#####################################\n",
    "    \n",
    "    for iz in xrange(3):\n",
    "        w_v=mc_df.iloc[entry].vtx2d_w\n",
    "        t_v=mc_df.iloc[entry].vtx2d_t\n",
    "        \n",
    "        for w,t in zip(w_v,t_v):\n",
    "            plt.plot(t,w,'*',color='yellow',markersize=20)\n",
    "    \n",
    "    \n",
    "    #for iy in xrange(reco_df.iloc[entry].n_circle_vtx):\n",
    "    #print 'shit ',reco_df.iloc[entry].circle_vtx_x_vv.size\n",
    "    for iy in xrange(reco_df.iloc[entry].circle_vtx_x_vv.size):\n",
    "        x_v=reco_df.iloc[entry].circle_vtx_x_vv[iy]\n",
    "        y_v=reco_df.iloc[entry].circle_vtx_y_vv[iy]\n",
    "\n",
    "        for x,y in zip(x_v,y_v):\n",
    "            plt.plot(x,y,'*',color='orange',markersize=20)\n",
    "        \n",
    "        #w_v=mc_df.iloc[entry].vtx2d_w\n",
    "        #t_v=mc_df.iloc[entry].vtx2d_t\n",
    "        \n",
    "        #for w,t in zip(w_v,t_v):\n",
    "            #plt.plot(t,w,'*',color='yellow',markersize=20)\n",
    "    \n",
    "    v_higer = [0,0,0]\n",
    "    v_sum = 0\n",
    "    for v in reco_df.iloc[entry].num_pixel_frac_vv:\n",
    "        if reco_df.iloc[entry].num_pixel_frac_vv.size == 1:\n",
    "            v_higer = v\n",
    "        if reco_df.iloc[entry].num_pixel_frac_vv.size > 1:\n",
    "            v_np = np.asarray(v)\n",
    "            if v_np.sum() > v_sum : \n",
    "                v_higer = v\n",
    "                v_sum = v_np.sum()\n",
    "    v_higer = [0,0,0]\n",
    "    v_sum = 0\n",
    "    num_vtx_p = 0 \n",
    "#########################################\n",
    "    for v, num_p in zip(reco_df.iloc[entry].num_pixel_frac_vv, reco_df.iloc[entry].num_planes_v):\n",
    "        if reco_df.iloc[entry].num_pixel_frac_vv.size == 1:\n",
    "            v_higer = v\n",
    "            num_vtx_p = num_p\n",
    "        if reco_df.iloc[entry].num_pixel_frac_vv.size > 1:\n",
    "            v_np = np.asarray(v)\n",
    "            if v_np.sum() > v_sum : \n",
    "                v_higer = v\n",
    "                v_sum = v_np.sum()\n",
    "                num_vtx_p = num_p\n",
    "#########################################\n",
    "    reco_flag ='pass'\n",
    "    if reco_df.iloc[entry].circle_vtx_x_vv.size <1 : \n",
    "        reco_flag = 'fail'\n",
    "        faillist.append(entry)\n",
    "    #print v_higer\n",
    "    \n",
    "    #print mc_df.iloc[entry].daughterTrackid_v\n",
    "    #print mc_df.iloc[entry].daughterParentTrackid_v\n",
    "    if mc_df.iloc[entry].daughterPdg_v.size ==2 :\n",
    "        #plt.text(-100,100,\"num_p_frac:\\n %f,\\n %f,\\n %f \\n daughter pdg:\\n %i, %dMeV, tID: %i, tpID: %i  \\n %i, %dMeV , tID: %i, tpID: %i\"%\n",
    "        plt.text(-100,100,\"%s,\\n nu initial eng: %fMev, \\n num_vtx_p: %i \\n num_p_frac:\\n %f,\\n %f,\\n %f \\n daughter pdg:\\n %i, %dMeV, tID: %i, tpID: %i  \\n %i, %dMeV , tID: %i, tpID: %i\"%\n",
    "\n",
    "                 (reco_flag,\n",
    "                  mc_df.iloc[entry].energyInit,\n",
    "                  num_vtx_p,\n",
    "                  v_higer[0],v_higer[1],v_higer[2],\n",
    "                  mc_df.iloc[entry].daughterPdg_v[0],\n",
    "                  mc_df.iloc[entry].daughterEnergyDep_v[0],\n",
    "                  mc_df.iloc[entry].daughterTrackid_v[0],\n",
    "                  mc_df.iloc[entry].daughterParentTrackid_v[0],\n",
    "                  mc_df.iloc[entry].daughterPdg_v[1],\n",
    "                  mc_df.iloc[entry].daughterEnergyDep_v[1],\n",
    "                  mc_df.iloc[entry].daughterTrackid_v[1],\n",
    "                  mc_df.iloc[entry].daughterParentTrackid_v[1]\n",
    "                 ),fontsize = 30)\n",
    "    if mc_df.iloc[entry].daughterPdg_v.size ==3 :\n",
    "        plt.text(-100,100,\"%s,nu initial eng: %fMev,\\n num_vtx_p: %i \\n num_p_frac: \\n%f,\\n %f,\\n %f \\n daughter pdg:\\n %i, %dMeV , tID: %i, tpID: %i\\n %i, %dMeV , tID: %i, tpID: %i\\n %i, %dMeV , tID: %i, tpID: %i \"%(\n",
    "                reco_flag,\n",
    "                mc_df.iloc[entry].energyInit,\n",
    "                num_vtx_p,\n",
    "                v_higer[0],v_higer[1],v_higer[2],\n",
    "                mc_df.iloc[entry].daughterPdg_v[0],\n",
    "                mc_df.iloc[entry].daughterEnergyDep_v[0],\n",
    "                mc_df.iloc[entry].daughterTrackid_v[0],\n",
    "                mc_df.iloc[entry].daughterParentTrackid_v[0],\n",
    "                mc_df.iloc[entry].daughterPdg_v[1],\n",
    "                mc_df.iloc[entry].daughterEnergyDep_v[1], \n",
    "                mc_df.iloc[entry].daughterTrackid_v[1],\n",
    "                mc_df.iloc[entry].daughterParentTrackid_v[1],\n",
    "                mc_df.iloc[entry].daughterPdg_v[2],\n",
    "                mc_df.iloc[entry].daughterEnergyDep_v[2],\n",
    "                mc_df.iloc[entry].daughterTrackid_v[2],\n",
    "                mc_df.iloc[entry].daughterParentTrackid_v[2]\n",
    "            ),fontsize = 30)\n",
    "\n",
    "    ax.set_title(\"Entry {}\".format(entry),fontweight='bold',fontsize=40)\n",
    "    plt.savefig(\"reco_%04d.png\"%entry)\n",
    "    #break\n",
    "    plt.show()"
   ]
  },
  {
   "cell_type": "code",
   "execution_count": null,
   "metadata": {
    "collapsed": true
   },
   "outputs": [],
   "source": []
  },
  {
   "cell_type": "code",
   "execution_count": null,
   "metadata": {
    "collapsed": true
   },
   "outputs": [],
   "source": []
  },
  {
   "cell_type": "code",
   "execution_count": null,
   "metadata": {
    "collapsed": true
   },
   "outputs": [],
   "source": []
  },
  {
   "cell_type": "code",
   "execution_count": null,
   "metadata": {
    "collapsed": false,
    "scrolled": false
   },
   "outputs": [],
   "source": [
    "reco_df_copy = reco_df.copy()\n",
    "\n",
    "cuts_v=[]\n",
    "cuts_v.append('n_vtx3d>0')\n",
    "\n",
    "for cut in cuts_v:\n",
    "    reco_df_copy = reco_df_copy.query(cut)"
   ]
  },
  {
   "cell_type": "code",
   "execution_count": null,
   "metadata": {
    "collapsed": false
   },
   "outputs": [],
   "source": [
    "reco_df_copy = reco_df_copy[reco_df_copy['vtx3d_num_planes_v'].apply(lambda x : np.where(x==3)[0].size)>0]"
   ]
  },
  {
   "cell_type": "code",
   "execution_count": null,
   "metadata": {
    "collapsed": false,
    "scrolled": false
   },
   "outputs": [],
   "source": [
    "def pixels(x):\n",
    "    y=np.hstack(x)\n",
    "    return np.where(y>0.9)[0].size\n",
    "\n",
    "reco_idx=reco_df_copy[reco_df_copy['num_pixel_frac_vv'].apply(pixels) > 0].index"
   ]
  },
  {
   "cell_type": "code",
   "execution_count": null,
   "metadata": {
    "collapsed": false
   },
   "outputs": [],
   "source": [
    "np3_v=reco_df.ix[reco_idx].vtx3d_num_planes_v.apply(lambda x : np.where(x==3)[0][0]).values"
   ]
  },
  {
   "cell_type": "code",
   "execution_count": null,
   "metadata": {
    "collapsed": false
   },
   "outputs": [],
   "source": [
    "dw_v=[]\n",
    "dt_v=[]\n",
    "for ix,idx in enumerate(reco_idx):\n",
    "    mc_t   = mc_df.ix[idx].vtx2d_w\n",
    "    mc_w   = mc_df.ix[idx].vtx2d_t\n",
    "    reco_w = reco_df.ix[idx].circle_vtx_x_vv[np3_v[ix]]\n",
    "    reco_t = reco_df.ix[idx].circle_vtx_y_vv[np3_v[ix]]\n",
    "    dw = mc_w - reco_w\n",
    "    dt = mc_t - reco_t\n",
    "    dw_v.append(dw)\n",
    "    dt_v.append(dt)\n",
    "dw_v = np.array(dw_v)\n",
    "dt_v = np.array(dt_v)"
   ]
  },
  {
   "cell_type": "code",
   "execution_count": null,
   "metadata": {
    "collapsed": false,
    "scrolled": false
   },
   "outputs": [],
   "source": [
    "matplotlib.rcParams['font.size']=20\n",
    "matplotlib.rcParams['font.family']='serif'\n",
    "fig,ax=plt.subplots(figsize=(10,6))\n",
    "for i in xrange(3):\n",
    "    ax.hist(dw_v[:,i],label='Plane {}'.format(i),bins=np.arange(-80,80,2),alpha=0.5)\n",
    "ax.set_xlabel(\"mc_w - reco_w [pixel]\",fontweight='bold')\n",
    "ax.legend()\n",
    "plt.grid()\n",
    "plt.show()\n",
    "\n",
    "fig,ax=plt.subplots(figsize=(10,6))\n",
    "for i in xrange(3):\n",
    "    ax.hist(dt_v[:,i],label='Plane {}'.format(i),bins=np.arange(-80,80,2),alpha=0.5)\n",
    "ax.set_xlabel(\"mc_t - reco_t [pixel]\",fontweight='bold')\n",
    "ax.legend()\n",
    "plt.grid()\n",
    "plt.show()\n",
    "\n",
    "\n",
    "for i in xrange(3):\n",
    "    fig,ax=plt.subplots(figsize=(10,6))\n",
    "    ax.hist(np.sqrt(np.power(dw_v[:,i],2)+np.power(dt_v[:,i],2)),\n",
    "            label='Plane {}'.format(i),bins=np.arange(0,100,1),alpha=0.5,lw=2)\n",
    "    ax.set_xlabel(\"dist 2D mc->reco [pixel]\",fontweight='bold')\n",
    "    ax.set_ylim(0,15)\n",
    "    ax.legend()\n",
    "    plt.grid()\n",
    "    plt.show()\n"
   ]
  }
 ],
 "metadata": {
  "kernelspec": {
   "display_name": "Python 2",
   "language": "python",
   "name": "python2"
  },
  "language_info": {
   "codemirror_mode": {
    "name": "ipython",
    "version": 2
   },
   "file_extension": ".py",
   "mimetype": "text/x-python",
   "name": "python",
   "nbconvert_exporter": "python",
   "pygments_lexer": "ipython2",
   "version": "2.7.10"
  }
 },
 "nbformat": 4,
 "nbformat_minor": 0
}
