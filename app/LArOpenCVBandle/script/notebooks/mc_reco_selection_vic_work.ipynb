{
 "cells": [
  {
   "cell_type": "code",
   "execution_count": null,
   "metadata": {
    "collapsed": true
   },
   "outputs": [],
   "source": [
    "%matplotlib inline\n",
    "\n",
    "import ROOT, sys, os\n",
    "from ROOT import std\n",
    "\n",
    "from larcv import larcv\n",
    "from larlite import larlite as ll\n",
    "from larlite import larutil as lu\n",
    "\n",
    "import numpy as np\n",
    "import matplotlib\n",
    "import matplotlib.pyplot as plt\n",
    "import matplotlib.path as path\n",
    "import matplotlib.patches as patches\n",
    "\n",
    "from ROOT import geo2d,cv\n",
    "from ROOT.cv import Point_ as Vector\n",
    "DTYPE='float'\n",
    "\n",
    "import root_numpy as rn\n",
    "import pandas as pd\n",
    "\n",
    "geoh=lu.GeometryHelper.GetME()\n",
    "geo=lu.Geometry.GetME()\n",
    "larp=lu.LArProperties.GetME()\n",
    "pygeo = geo2d.PyDraw()\n",
    "\n",
    "matplotlib.rcParams['font.size']=20\n",
    "matplotlib.rcParams['font.family']='serif'"
   ]
  },
  {
   "cell_type": "code",
   "execution_count": null,
   "metadata": {
    "collapsed": false
   },
   "outputs": [],
   "source": [
    "reco_event_df = pd.DataFrame(rn.root2array(\"../reco_ana.root\",treename='EventTree'))\n",
    "reco_vtx3d_df = pd.DataFrame(rn.root2array(\"../reco_ana.root\",treename='Vtx3DTree'))\n",
    "reco_particle_df = pd.DataFrame(rn.root2array(\"../reco_ana.root\",treename='ParticleTree'))\n",
    "mc_df   = pd.DataFrame(rn.root2array(\"../mc_ana.root\",treename='mctree'))"
   ]
  },
  {
   "cell_type": "code",
   "execution_count": null,
   "metadata": {
    "collapsed": false
   },
   "outputs": [],
   "source": [
    "reco_particle_df"
   ]
  },
  {
   "cell_type": "code",
   "execution_count": null,
   "metadata": {
    "collapsed": false
   },
   "outputs": [],
   "source": [
    "#Calculating the signal denomenator...\n",
    "pdg2mass={}\n",
    "pdg2mass[13]  = 105\n",
    "pdg2mass[2212]= 938\n",
    "pdg2mass[2112]= 939.5\n",
    "pdg2mass[11]  = 0#0.5\n",
    "pdg2mass[311] = 497.65\n",
    "def mass(pdg):\n",
    "    return pdg2mass[pdg]\n",
    "mass_vec=np.vectorize(mass)\n",
    "\n",
    "mc_wdf=mc_df.copy()\n",
    "print mc_wdf.index.size\n",
    "mc_wdf=mc_wdf.query('energyInit > 100 & energyInit < 500')\n",
    "print mc_wdf.index.size\n",
    "mc_wdf=mc_wdf[mc_wdf.daughterPdg_v.apply(lambda x : x.size>=2)]\n",
    "print mc_wdf.index.size\n",
    "\n",
    "def containment(row):\n",
    "    pdg_v   = row['daughterPdg_v']\n",
    "    einit_v = row['daughterEnergyInit_v']\n",
    "    edep_v  = row['daughterEnergyDep_v']\n",
    "    \n",
    "    eisub_v=einit_v-mass_vec(pdg_v)\n",
    "  \n",
    "    init_sum = eisub_v.sum()\n",
    "    dep_sum  = edep_v.sum()\n",
    "    \n",
    "    proton_v=eisub_v[np.where(pdg_v==2212)[0]]\n",
    "    \n",
    "    if(np.where(proton_v>80)[0].size>0): pass\n",
    "    else: return False;\n",
    "        \n",
    "    if dep_sum / init_sum < 0.9: return False;\n",
    "\n",
    "    return True;\n",
    "    \n",
    "mc_wdf=mc_wdf[mc_wdf.apply(containment,axis=1)]\n",
    "print mc_wdf.index.size\n",
    "mc_wdf_idx = mc_wdf.index"
   ]
  },
  {
   "cell_type": "code",
   "execution_count": null,
   "metadata": {
    "collapsed": false
   },
   "outputs": [],
   "source": [
    "#Calculating the efficiency numerator\n",
    "#reco_df_copy will have our analysis cuts\n",
    "reco_event_wdf = reco_event_df.ix[mc_wdf_idx].copy()\n",
    "\n",
    "cuts_v=[]\n",
    "cuts_v.append('n_vtx3d>0')\n",
    "\n",
    "for cut in cuts_v:\n",
    "    reco_event_wdf = reco_event_wdf.query(cut)\n",
    "\n",
    "print reco_event_wdf.index.size\n",
    "\n",
    "#filter vertices from, only care about the events that have\n",
    "#vertex estimated from 3 planes\n",
    "#reco_wdf = reco_wdf[reco_wdf['num_planes_v'].apply(lambda x : np.where(x==3)[0].size)>0]\n",
    "\n",
    "print reco_event_wdf.index.size\n",
    "\n",
    "#cut on the pixel frac\n",
    "#pxfrac=0.9\n",
    "#def pixels(x):\n",
    "#    y=np.hstack(x)\n",
    "#    return np.where(y>pxfrac)[0].size\n",
    "\n",
    "#reco_wdf=reco_wdf[reco_wdf['num_pixel_frac_vv'].apply(pixels) > 0]"
   ]
  },
  {
   "cell_type": "code",
   "execution_count": null,
   "metadata": {
    "collapsed": false
   },
   "outputs": [],
   "source": [
    "efficiency = 96/112.\n",
    "print efficiency"
   ]
  },
  {
   "cell_type": "code",
   "execution_count": null,
   "metadata": {
    "collapsed": false
   },
   "outputs": [],
   "source": [
    "\n",
    "#join the event and vtx3d dataframes\n",
    "#the event data frame has been filtered by number of 3D vertex\n",
    "a=reco_event_wdf.set_index(['run','subrun','event'])\n",
    "b=reco_vtx3d_df.set_index(['run','subrun','event'])\n",
    "\n",
    "#get the vtx3d entries that are in events with 3D vertex\n",
    "reco_df=a.join(b)\n",
    "\n",
    "#group the event,run,and subrun into groups (1 group == 1 event now...)\n",
    "event_group=reco_df.groupby(reco_df.index)\n",
    "\n",
    "#for each group look at the num pixel frac, return the index in the group that gives highest SUM! -- this is vtx id\n",
    "g=event_group['num_pixel_frac_v'].apply(lambda x : np.argmax(np.row_stack(x.values).sum(axis=1)))\n",
    "\n",
    "top_idx=np.concatenate((np.vstack(g.index.values),g.values.reshape(g.values.shape[0],1)),axis=1)\n",
    "\n",
    "#set the vertex ID on the index, this allows us to selection the correct r/s/e/vtxid\n",
    "reco_df=reco_df.set_index('vtx3d_id',append=True,drop=True)\n",
    "\n",
    "#get only the index if the highest pixel fraction\n",
    "reco_df=reco_df.ix[pd.Index(top_idx).astype(np.object)]\n",
    "\n",
    "#chosen reco dataframe (after analysis cuts)\n",
    "reco_cdf = reco_df.reset_index(['vtx3d_id'])"
   ]
  },
  {
   "cell_type": "code",
   "execution_count": null,
   "metadata": {
    "collapsed": false
   },
   "outputs": [],
   "source": [
    "mc_cdf=mc_wdf.set_index(['run','subrun','event']).ix[reco_cdf.index]\n",
    "\n",
    "dw_v=mc_cdf.vtx2d_w.values  - reco_cdf.circle_vtx_y_v.values\n",
    "dt_v=mc_cdf.vtx2d_t.values  - reco_cdf.circle_vtx_x_v.values\n",
    "\n",
    "\n",
    "dw_v=np.vstack(dw_v)\n",
    "dt_v=np.vstack(dt_v)\n"
   ]
  },
  {
   "cell_type": "code",
   "execution_count": null,
   "metadata": {
    "collapsed": false,
    "scrolled": false
   },
   "outputs": [],
   "source": [
    "#2d resolution plots \n",
    "\n",
    "fig,ax=plt.subplots(figsize=(10,6))\n",
    "for i in xrange(3):\n",
    "    ax.hist(dw_v[:,i],\n",
    "            label='Plane {}'.format(i),\n",
    "            bins=np.arange(-80,80+2,2),\n",
    "            alpha=0.5)\n",
    "ax.set_xlabel(\"(MC - Reco) Wire [pixel]\",fontweight='bold')\n",
    "ax.set_ylim(0,45)\n",
    "ax.set_xlim(-100,100)\n",
    "ax.legend()\n",
    "plt.grid()\n",
    "plt.show()\n",
    "\n",
    "fig,ax=plt.subplots(figsize=(10,6))\n",
    "for i in xrange(3):\n",
    "    ax.hist(dt_v[:,i],\n",
    "            label='Plane {}'.format(i),\n",
    "            bins=np.arange(-80,80+2,2),\n",
    "            alpha=0.5)\n",
    "ax.set_xlabel(\"(MC - Reco) Time [pixel]\",fontweight='bold')\n",
    "ax.set_ylim(0,45)\n",
    "ax.set_xlim(-100,100)\n",
    "ax.legend()\n",
    "plt.grid()\n",
    "plt.show()\n",
    "\n",
    "\n",
    "for i in xrange(3):\n",
    "    fig,ax=plt.subplots(figsize=(10,6))\n",
    "    ax.hist(np.sqrt(np.power(dw_v[:,i],2)+np.power(dt_v[:,i],2)),\n",
    "            label='Plane {}'.format(i),\n",
    "            bins=np.arange(0,100+1,1),\n",
    "            alpha=0.5,lw=2)\n",
    "    ax.set_xlabel(\"Dist MC Reco Vtx [pixel]\",fontweight='bold')\n",
    "    ax.set_ylim(0,30)\n",
    "    ax.set_xlim(0,100)\n",
    "    ax.legend()\n",
    "    plt.grid()\n",
    "    plt.show()"
   ]
  },
  {
   "cell_type": "code",
   "execution_count": null,
   "metadata": {
    "collapsed": false,
    "scrolled": false
   },
   "outputs": [],
   "source": [
    "#num_pixel_frac check\n",
    "p_=reco_cdf.num_pixel_frac_v\n",
    "p_=np.vstack(p_)\n",
    "for i in xrange(3):\n",
    "    fig,ax=plt.subplots(figsize=(10,6))\n",
    "    ax.hist(p_[:,i],bins=np.arange(0,1+0.6,0.1))\n",
    "    ax.set_xlabel(\"Plane {}\".format(i))\n",
    "    ax.set_ylim(0,45)\n",
    "    ax.set_xlim(0,1.5)\n",
    "    plt.grid()\n",
    "    plt.show()\n",
    "\n",
    "fig,ax=plt.subplots(figsize=(10,6))\n",
    "ax.hist(p_.sum(axis=1),bins=np.arange(0,4+0.1,0.1))\n",
    "ax.set_xlabel(\"Sum\")\n",
    "plt.grid()\n",
    "plt.show()\n",
    "\n",
    "fig,ax=plt.subplots(figsize=(10,6))\n",
    "ppp=p_[:,0]*p_[:,1]*p_[:,2]\n",
    "ax.hist(ppp,bins=np.arange(0,1+0.6,0.1))\n",
    "ax.set_xlim(0,1.0)\n",
    "ax.set_xlabel(\"Product\")\n",
    "plt.grid()\n",
    "plt.show()"
   ]
  },
  {
   "cell_type": "code",
   "execution_count": null,
   "metadata": {
    "collapsed": false
   },
   "outputs": [],
   "source": [
    "#chose the 3D vertex with highest num_pix_frac\n",
    "def hi_pix_idx(row):\n",
    "    x_v = row['vtx3d_x_v']\n",
    "    y_v = row['vtx3d_y_v']\n",
    "    z_v = row['vtx3d_z_v']\n",
    "    num_pix_frac_vv = row['num_pixel_frac_vv']\n",
    "    idx=np.argmax(np.sum(np.vstack(num_pix_frac_vv),axis=1))\n",
    "    return [x_v[idx],y_v[idx],z_v[idx]]\n",
    "\n",
    "vtx_x=reco_cdf.vtx3d_x.values\n",
    "vtx_y=reco_cdf.vtx3d_y.values\n",
    "vtx_z=reco_cdf.vtx3d_z.values\n",
    "\n",
    "vtx=np.vstack([vtx_x,vtx_y,vtx_z]).T"
   ]
  },
  {
   "cell_type": "code",
   "execution_count": null,
   "metadata": {
    "collapsed": false
   },
   "outputs": [],
   "source": [
    "dvtx=vtx-mc_cdf[['parentX','parentY','parentZ']].values"
   ]
  },
  {
   "cell_type": "code",
   "execution_count": null,
   "metadata": {
    "collapsed": false
   },
   "outputs": [],
   "source": [
    "fig,ax=plt.subplots(figsize=(10,6))\n",
    "ax.hist(dvtx[:,0],bins=np.arange(0,100,1))\n",
    "ax.set_xlabel('MC - Reco dX [pixel]',fontweight='bold')\n",
    "ax.set_xlim(-100,100)\n",
    "plt.grid()\n",
    "plt.show()\n",
    "\n",
    "fig,ax=plt.subplots(figsize=(10,6))\n",
    "ax.hist(dvtx[:,1],bins=np.arange(-100,100,1))\n",
    "ax.set_xlim(-100,100)\n",
    "plt.grid()\n",
    "ax.set_xlabel('MC - Reco dY [pixel]',fontweight='bold')\n",
    "plt.show()\n",
    "\n",
    "fig,ax=plt.subplots(figsize=(10,6))\n",
    "ax.hist(dvtx[:,2],bins=np.arange(-100,100,1))\n",
    "ax.set_xlim(-100,100)\n",
    "plt.grid()\n",
    "ax.set_xlabel('MC - Reco dZ [pixel]',fontweight='bold')\n",
    "plt.show()"
   ]
  },
  {
   "cell_type": "code",
   "execution_count": null,
   "metadata": {
    "collapsed": true
   },
   "outputs": [],
   "source": []
  }
 ],
 "metadata": {
  "kernelspec": {
   "display_name": "Python 2",
   "language": "python",
   "name": "python2"
  },
  "language_info": {
   "codemirror_mode": {
    "name": "ipython",
    "version": 2
   },
   "file_extension": ".py",
   "mimetype": "text/x-python",
   "name": "python",
   "nbconvert_exporter": "python",
   "pygments_lexer": "ipython2",
   "version": "2.7.10"
  }
 },
 "nbformat": 4,
 "nbformat_minor": 0
}
