{
 "cells": [
  {
   "cell_type": "code",
   "execution_count": null,
   "metadata": {
    "collapsed": false
   },
   "outputs": [],
   "source": [
    "%matplotlib inline\n",
    "\n",
    "import ROOT, sys, os\n",
    "from ROOT import std\n",
    "\n",
    "from larcv import larcv\n",
    "from larlite import larlite as ll\n",
    "from larlite import larutil as lu\n",
    "\n",
    "import numpy as np\n",
    "import matplotlib\n",
    "import matplotlib.pyplot as plt\n",
    "import matplotlib.path as path\n",
    "import matplotlib.patches as patches\n",
    "\n",
    "from ROOT import geo2d,cv\n",
    "from ROOT.cv import Point_ as Vector\n",
    "DTYPE='float'\n",
    "\n",
    "import root_numpy as rn\n",
    "import pandas as pd\n",
    "\n",
    "geoh=lu.GeometryHelper.GetME()\n",
    "geo=lu.Geometry.GetME()\n",
    "larp=lu.LArProperties.GetME()\n",
    "pygeo = geo2d.PyDraw()"
   ]
  },
  {
   "cell_type": "code",
   "execution_count": null,
   "metadata": {
    "collapsed": false
   },
   "outputs": [],
   "source": [
    "reco_df = pd.DataFrame(rn.root2rec(\"../reco_ana.root\",treename='LArbysImageTree'))\n",
    "mc_df   = pd.DataFrame(rn.root2rec(\"../mc_ana.root\",treename='mctree'))"
   ]
  },
  {
   "cell_type": "code",
   "execution_count": null,
   "metadata": {
    "collapsed": false
   },
   "outputs": [],
   "source": [
    "iom=larcv.IOManager(larcv.IOManager.kBOTH)        \n",
    "iom.reset()\n",
    "iom.set_verbosity(0)                                                                          \n",
    "iom.add_in_file(\"/Users/vgenty/Desktop/out_0000_0099.root\")\n",
    "iom.set_out_file(\"/tmp/trash.root\")\n",
    "iom.initialize()\n",
    "\n",
    "larbysimg=larcv.LArbysImage()\n",
    "cfg=larcv.CreatePSetFromFile(\"empty.fcl\",\"LArbysImage\")\n",
    "larbysimg.configure(cfg)\n",
    "larbysimg.initialize()"
   ]
  },
  {
   "cell_type": "code",
   "execution_count": null,
   "metadata": {
    "collapsed": false,
    "scrolled": false
   },
   "outputs": [],
   "source": [
    "for entry in [192]:#mc_reco_ix_v:\n",
    "    iom.read_entry(entry)\n",
    "    larbysimg.process(iom)\n",
    "    mgr=larbysimg.Manager()\n",
    "    \n",
    "    img_v = []\n",
    "\n",
    "    fig,ax=plt.subplots(figsize=(20,20))\n",
    "    maxx=0;minx=9999\n",
    "    maxy=0;miny=9999\n",
    "    plane=0\n",
    "\n",
    "    caca_img=np.zeros((485, 485))\n",
    "    sel_df=reco_df.iloc[entry]\n",
    "    \n",
    "    for mat in mgr.InputImages():\n",
    "\n",
    "        img_v.append(pygeo.image(mat))\n",
    "        shape_img=np.where(img_v[plane]>1.5,1.0,0.0).astype(np.uint8)\n",
    "\n",
    "        plane+=1\n",
    "\n",
    "        nz_pixels=np.where(shape_img>0.0)\n",
    "        \n",
    "        maxx=np.maximum(maxx,np.max(nz_pixels[1])+100)\n",
    "        minx=np.minimum(minx,np.min(nz_pixels[1])-100)\n",
    "\n",
    "        maxy=np.maximum(maxy,np.max(nz_pixels[0])+100)\n",
    "        miny=np.minimum(miny,np.min(nz_pixels[0])-100)\n",
    "\n",
    "        caca_img+=shape_img\n",
    "\n",
    "    caca_img=np.where(caca_img>0,1.0,0.0)\n",
    "\n",
    "    plt.imshow(caca_img,cmap='Greys',interpolation='none')\n",
    "    for cv_x_v,cv_y_v in zip(sel_df.circle_vtx_x_vv,\n",
    "                             sel_df.circle_vtx_y_vv):\n",
    "\n",
    "        for x,y in zip(cv_x_v,cv_y_v):\n",
    "            plt.plot(x,y,'*',color='orange',markersize=20)\n",
    "        \n",
    "    w_v=mc_df.iloc[entry].vtx2d_w\n",
    "    t_v=mc_df.iloc[entry].vtx2d_t\n",
    "    ic=-1\n",
    "    colors=['red','green','blue']\n",
    "           \n",
    "    for w,t in zip(w_v,t_v):\n",
    "            ic+=1\n",
    "            plt.plot(t,w,'*',color=colors[ic],markersize=20)\n",
    "    \n",
    "    for vtx2_x_v,vtx2_y_v in zip(sel_df.vtx2d_x_vv,\n",
    "                                 sel_df.vtx2d_y_vv):\n",
    "\n",
    "        for x,y in zip(vtx2_x_v,vtx2_y_v):\n",
    "            plt.plot(x,y,'o',color='magenta',markersize=25,alpha=0.1)\n",
    "            \n",
    "    ax.set_title(\"Entry {}\".format(entry),fontweight='bold',fontsize=40)\n",
    "    #plt.savefig(\"reco_%04d.png\"%entry)\n",
    "    plt.grid()\n",
    "    plt.show()\n"
   ]
  },
  {
   "cell_type": "code",
   "execution_count": null,
   "metadata": {
    "collapsed": false,
    "scrolled": true
   },
   "outputs": [],
   "source": [
    "#reco_df_copy will have out analysis cuts built in\n",
    "reco_df_copy = reco_df.copy()\n",
    "\n",
    "cuts_v=[]\n",
    "cuts_v.append('n_vtx3d>0')\n",
    "\n",
    "for cut in cuts_v:\n",
    "    reco_df_copy = reco_df_copy.query(cut)\n",
    "\n",
    "#filter vertices from, only care about the events that have\n",
    "#vertex estimated from 3 planes\n",
    "reco_df_copy = reco_df_copy[reco_df_copy['num_planes_v'].apply(lambda x : np.where(x==3)[0].size)>0]\n",
    "\n",
    "#cut on the pixel frac\n",
    "pxfrac=0.0\n",
    "def pixels(x):\n",
    "    y=np.hstack(x)\n",
    "    return np.where(y>pxfrac)[0].size\n",
    "\n",
    "reco_idx=reco_df_copy[reco_df_copy['num_pixel_frac_vv'].apply(pixels) > 0].index"
   ]
  },
  {
   "cell_type": "code",
   "execution_count": null,
   "metadata": {
    "collapsed": false,
    "scrolled": false
   },
   "outputs": [],
   "source": [
    "reco_df_copy.index.size"
   ]
  },
  {
   "cell_type": "code",
   "execution_count": null,
   "metadata": {
    "collapsed": false
   },
   "outputs": [],
   "source": [
    "mc_df_copy = mc_df.copy()\n",
    "mc_df_copy=mc_df_copy[mc_df_copy.daughterPdg_v.apply(lambda x : x.size)==2]\n",
    "print mc_df_copy.index.size"
   ]
  },
  {
   "cell_type": "code",
   "execution_count": null,
   "metadata": {
    "collapsed": false
   },
   "outputs": [],
   "source": [
    "reco_idx"
   ]
  },
  {
   "cell_type": "code",
   "execution_count": null,
   "metadata": {
    "collapsed": false
   },
   "outputs": [],
   "source": [
    "mc_df_copy.index"
   ]
  },
  {
   "cell_type": "code",
   "execution_count": null,
   "metadata": {
    "collapsed": false
   },
   "outputs": [],
   "source": [
    "reco_df.ix[175]"
   ]
  },
  {
   "cell_type": "code",
   "execution_count": null,
   "metadata": {
    "collapsed": false
   },
   "outputs": [],
   "source": [
    "ex=np.array([4, 8, 9, 10, 12, 13, 23, 33, 34, 40, 41, 45, 52, 53, 63, 65, 71, 79, 86, 88, 93, 95, 97, 103, 107, 114, 123, 125, 127, 132, 140, 142, 143, 145, 150, 152, 156, 159, 175, 178, 184, 185, 186, 191, 195, 200, 204, 205, 211, 215, 216, 219, 223, 225, 226, 228, 229, 230, 242, 253, 266, 270])\n",
    "\n",
    "np3_v=reco_df.ix[ex].num_planes_v.apply(lambda x : np.where(x==3)[0][0])\n",
    "print np3_v.size"
   ]
  },
  {
   "cell_type": "code",
   "execution_count": null,
   "metadata": {
    "collapsed": false
   },
   "outputs": [],
   "source": [
    "dw_v=[]\n",
    "dt_v=[]\n",
    "mc_reco_ix_v=[]\n",
    "\n",
    "#for mc_ix,mc_row in mc_df_copy.iterrows():\n",
    "#   if mc_ix not in reco_idx.values:\n",
    "#        continue\n",
    "print ex.size\n",
    "for mc_ix in ex:   \n",
    "    mc_row=mc_df.ix[mc_ix]\n",
    "    mc_reco_ix_v.append(mc_ix)\n",
    "    reco_row = reco_df.ix[mc_ix]\n",
    "    mc_w   = mc_row.vtx2d_w\n",
    "    mc_t   = mc_row.vtx2d_t\n",
    "    reco_t = reco_row.circle_vtx_x_vv[np3_v.ix[mc_ix]]\n",
    "    reco_w = reco_row.circle_vtx_y_vv[np3_v.ix[mc_ix]]\n",
    "    dw = mc_w - reco_w\n",
    "    dt = mc_t - reco_t\n",
    "    dw_v.append(dw)\n",
    "    dt_v.append(dt)\n",
    "    \n",
    "mc_reco_ix_v=np.array(mc_reco_ix_v)\n",
    "\n",
    "dw_v = np.array(dw_v)\n",
    "dt_v = np.array(dt_v)  \n",
    "print dt_v.size,dw_v.size"
   ]
  },
  {
   "cell_type": "code",
   "execution_count": null,
   "metadata": {
    "collapsed": false
   },
   "outputs": [],
   "source": [
    "#mc_df.query('energyDeposit>=100 & energyDeposit<=500').index.values.simc_df.parentPz.values\n",
    "Px2= np.power(mc_df.parentPx.values,2)\n",
    "Py2= np.power(mc_df.parentPy.values,2)\n",
    "Pz2= np.power(mc_df.parentPz.values,2)\n",
    "\n",
    "initE = np.sqrt(Px2+Py2+Pz2)\n",
    "containfrac=mc_df.energyDeposit.values/initE\n",
    "np.where(containfrac<0.2)\n",
    "a,_,_=plt.hist(containfrac,bins=np.arange(0,1.0+0.1,0.1))\n",
    "print a,a.sum()\n",
    "plt.grid()\n",
    "plt.show()"
   ]
  },
  {
   "cell_type": "code",
   "execution_count": null,
   "metadata": {
    "collapsed": false,
    "scrolled": false
   },
   "outputs": [],
   "source": [
    "r=[]\n",
    "pdg2mass={}\n",
    "pdg2mass[13]=0#105\n",
    "pdg2mass[2212]=938\n",
    "pdg2mass[11]=0#0.5\n",
    "\n",
    "for ix,row in mc_df.iterrows():\n",
    "    init_sum=0\n",
    "    dep_sum=0\n",
    "    for pdg,e in zip(row.daughterPdg_v,\n",
    "                     row.daughterEnergyInit_v):\n",
    "        init_sum += e-pdg2mass[pdg]\n",
    "        #print \"init:\",pdg,e\n",
    "    for pdg,e in zip(row.daughterPdg_v,\n",
    "                     row.daughterEnergyDep_v):\n",
    "        dep_sum += e\n",
    "        #print \"dep:\",pdg,e\n",
    "    r.append(dep_sum / init_sum)\n",
    "    \n",
    "r=np.array(r)\n",
    "print np.where(r>0.9)[0].size\n",
    "a,_,_=plt.hist(r,bins=np.arange(0,1.0+0.025,0.025))\n",
    "print a.sum()"
   ]
  },
  {
   "cell_type": "code",
   "execution_count": null,
   "metadata": {
    "collapsed": false,
    "scrolled": false
   },
   "outputs": [],
   "source": [
    "matplotlib.rcParams['font.size']=20\n",
    "matplotlib.rcParams['font.family']='serif'\n",
    "\n",
    "fig,ax=plt.subplots(figsize=(10,6))\n",
    "for i in xrange(3):\n",
    "    ax.hist(dw_v[:,i],\n",
    "            label='Plane {}'.format(i),\n",
    "            bins=np.arange(-80,80+2,2),\n",
    "            alpha=0.5)\n",
    "ax.set_xlabel(\"(MC - Reco) Wire [pixel]\",fontweight='bold')\n",
    "ax.set_ylim(0,30)\n",
    "ax.set_xlim(-100,100)\n",
    "ax.legend()\n",
    "plt.grid()\n",
    "plt.show()\n",
    "\n",
    "fig,ax=plt.subplots(figsize=(10,6))\n",
    "for i in xrange(3):\n",
    "    ax.hist(dt_v[:,i],\n",
    "            label='Plane {}'.format(i),\n",
    "            bins=np.arange(-80,80+2,2),\n",
    "            alpha=0.5)\n",
    "ax.set_xlabel(\"(MC - Reco) Time [pixel]\",fontweight='bold')\n",
    "ax.set_ylim(0,30)\n",
    "ax.set_xlim(-100,100)\n",
    "ax.legend()\n",
    "plt.grid()\n",
    "plt.show()\n",
    "\n",
    "\n",
    "for i in xrange(3):\n",
    "    fig,ax=plt.subplots(figsize=(10,6))\n",
    "    ax.hist(np.sqrt(np.power(dw_v[:,i],2)+np.power(dt_v[:,i],2)),\n",
    "            label='Plane {}'.format(i),\n",
    "            bins=np.arange(0,100+1,1),\n",
    "            alpha=0.5,lw=2)\n",
    "    ax.set_xlabel(\"Dist MC Reco Vtx [pixel]\",fontweight='bold')\n",
    "    ax.set_ylim(0,30)\n",
    "    ax.set_xlim(0,100)\n",
    "    ax.legend()\n",
    "    plt.grid()\n",
    "    plt.show()\n"
   ]
  },
  {
   "cell_type": "code",
   "execution_count": null,
   "metadata": {
    "collapsed": true
   },
   "outputs": [],
   "source": []
  },
  {
   "cell_type": "code",
   "execution_count": null,
   "metadata": {
    "collapsed": false
   },
   "outputs": [],
   "source": [
    "proton_df=mc_df[mc_df['daughterPdg_v'].apply(lambda x : 2212 in x)]\n",
    "oneproton_df=proton_df[proton_df['daughterPdg_v'].apply(lambda x : x.size==2)]"
   ]
  },
  {
   "cell_type": "code",
   "execution_count": null,
   "metadata": {
    "collapsed": false,
    "scrolled": false
   },
   "outputs": [],
   "source": [
    "plt.hist(oneproton_df.daughterEnergyDep_v.str[1],bins=np.arange(0,350+25,25))\n",
    "plt.grid()\n",
    "plt.show()\n",
    "fig,ax=plt.subplots(figsize=(10,6))\n",
    "plt.hist2d(oneproton_df.daughterEnergyDep_v.str[1].values,\n",
    "          oneproton_df.daughterLength_vv.str[2].str[1].values,\n",
    "          bins=(np.arange(0,350+20,20),np.arange(0,350+20,20)))\n",
    "plt.colorbar()\n",
    "ax=plt.gca()\n",
    "ax.set_xlabel(\"Proton Energy Dep\",fontweight='bold')\n",
    "ax.set_ylabel(\"Estimated Proton\\n Length in Plane 2 [pixels]\",fontweight='bold')\n",
    "plt.show()"
   ]
  },
  {
   "cell_type": "code",
   "execution_count": null,
   "metadata": {
    "collapsed": false,
    "scrolled": false
   },
   "outputs": [],
   "source": [
    "#calculate the MC angular distribution\n",
    "\n",
    "for plane in [0,1,2]:\n",
    "\n",
    "    p1start_x_v = oneproton_df.daughter2DStartX_vv.str[plane].str[0]\n",
    "    p1start_y_v = oneproton_df.daughter2DStartY_vv.str[plane].str[0]\n",
    "    p1end_x_v   = oneproton_df.daughter2DEndX_vv.str[plane].str[0]\n",
    "    p1end_y_v   = oneproton_df.daughter2DEndY_vv.str[plane].str[0]\n",
    "\n",
    "    p2start_x_v = oneproton_df.daughter2DStartX_vv.str[plane].str[1]\n",
    "    p2start_y_v = oneproton_df.daughter2DStartY_vv.str[plane].str[1]\n",
    "    p2end_x_v   = oneproton_df.daughter2DEndX_vv.str[plane].str[1]\n",
    "    p2end_y_v   = oneproton_df.daughter2DEndY_vv.str[plane].str[1]\n",
    "\n",
    "\n",
    "    p1start_v = np.vstack((p1start_x_v,\n",
    "                           p1start_y_v)).T\n",
    "    \n",
    "    p1end_v = np.vstack((p1end_x_v,\n",
    "                         p1end_y_v)).T\n",
    "    \n",
    "    p2start_v = np.vstack((p2start_x_v,\n",
    "                           p2start_y_v)).T\n",
    "    \n",
    "    p2end_v = np.vstack((p2end_x_v,\n",
    "                         p2end_y_v)).T\n",
    "\n",
    "    p1dir_v=p1end_v-p1start_v;\n",
    "    p2dir_v=p2end_v-p2start_v;\n",
    "\n",
    "    numerator=(p1dir_v*p2dir_v).sum(axis=1)\n",
    "    denominator=np.sqrt(np.power(p1dir_v,2.0).sum(axis=1))*np.sqrt(np.power(p2dir_v,2.0).sum(axis=1))\n",
    "    costheta=numerator/denominator\n",
    "\n",
    "    fig,ax=plt.subplots(figsize=(10,6))\n",
    "    print costheta[30]\n",
    "    ax.hist(costheta,bins=np.arange(-1,1+0.1,0.1))\n",
    "    ax.set_xlabel(\"cos(theta) Plane {} [deg]\".format(plane),fontweight='bold')\n",
    "    ax.set_xlim(-1,1)\n",
    "    plt.grid()\n",
    "    plt.show()"
   ]
  },
  {
   "cell_type": "code",
   "execution_count": null,
   "metadata": {
    "collapsed": false
   },
   "outputs": [],
   "source": [
    "print p1dir_v[0],p2dir_v[0]\n",
    "print p1dir_v[0]*p2dir_v[0]\n",
    "print (p1dir_v*p2dir_v).sum(axis=1)[0]\n",
    "print np.sqrt(np.power(p1dir_v,2.0).sum(axis=1))[0],np.sqrt(np.power(p2dir_v,2.0).sum(axis=1))[0]"
   ]
  },
  {
   "cell_type": "code",
   "execution_count": null,
   "metadata": {
    "collapsed": false
   },
   "outputs": [],
   "source": [
    "print np.where((costheta<-0.9))\n",
    "print np.where((costheta>0.9))"
   ]
  },
  {
   "cell_type": "code",
   "execution_count": null,
   "metadata": {
    "collapsed": false
   },
   "outputs": [],
   "source": [
    "oneproton_df.iloc[30]"
   ]
  },
  {
   "cell_type": "code",
   "execution_count": null,
   "metadata": {
    "collapsed": false,
    "scrolled": false
   },
   "outputs": [],
   "source": [
    "#calculate the MC angular distribution\n",
    "\n",
    "for plane in [2]:\n",
    "\n",
    "    p1start_x_v = oneproton_df.daughter2DStartX_vv.str[plane].str[1]\n",
    "    p1start_y_v = oneproton_df.daughter2DStartY_vv.str[plane].str[1]\n",
    "    p1end_x_v   = oneproton_df.daughter2DEndX_vv.str[plane].str[1]\n",
    "    p1end_y_v   = oneproton_df.daughter2DEndY_vv.str[plane].str[1]\n",
    "\n",
    "\n",
    "    p1start_v = np.vstack((p1start_x_v,\n",
    "                           p1start_y_v)).T\n",
    "    \n",
    "    p1end_v = np.vstack((p1end_x_v,\n",
    "                         p1end_y_v)).T\n",
    "    \n",
    "    p1dir_v=p1end_v-p1start_v;\n",
    "    \n",
    "    xx=p1dir_v[:,0]\n",
    "    yy=p1dir_v[:,1]\n",
    "    \n",
    "    angle=xx/(np.sqrt(np.power(xx,2)+np.power(yy,2)))\n",
    "    fig,ax=plt.subplots(figsize=(10,6))\n",
    "    ax.hist(angle,bins=np.arange(-1,1+0.1,0.1))\n",
    "    ax.set_xlabel(\"proton cos(theta) Plane {}\".format(plane),fontweight='bold')\n",
    "    ax.set_xlim(-1,1)\n",
    "    plt.grid()\n",
    "    plt.show()"
   ]
  },
  {
   "cell_type": "code",
   "execution_count": null,
   "metadata": {
    "collapsed": false
   },
   "outputs": [],
   "source": [
    "px=oneproton_df.daughterPx_v.str[1].values\n",
    "py=oneproton_df.daughterPy_v.str[1].values\n",
    "pz=oneproton_df.daughterPz_v.str[1].values"
   ]
  },
  {
   "cell_type": "code",
   "execution_count": null,
   "metadata": {
    "collapsed": false
   },
   "outputs": [],
   "source": [
    "plt.hist(pz/np.sqrt(px*px+pz*pz),np.arange(-1,1+0.1,0.1))\n",
    "ax=plt.gca()\n",
    "ax.set_xlabel(\"pz/sqrt(pz^2+px^2)\")\n",
    "plt.grid()\n",
    "plt.show()"
   ]
  },
  {
   "cell_type": "code",
   "execution_count": null,
   "metadata": {
    "collapsed": true
   },
   "outputs": [],
   "source": []
  }
 ],
 "metadata": {
  "kernelspec": {
   "display_name": "Python 2",
   "language": "python",
   "name": "python2"
  },
  "language_info": {
   "codemirror_mode": {
    "name": "ipython",
    "version": 2
   },
   "file_extension": ".py",
   "mimetype": "text/x-python",
   "name": "python",
   "nbconvert_exporter": "python",
   "pygments_lexer": "ipython2",
   "version": "2.7.10"
  }
 },
 "nbformat": 4,
 "nbformat_minor": 0
}
