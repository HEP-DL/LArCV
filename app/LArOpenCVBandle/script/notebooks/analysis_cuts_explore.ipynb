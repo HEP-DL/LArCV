{
 "cells": [
  {
   "cell_type": "code",
   "execution_count": null,
   "metadata": {
    "collapsed": true
   },
   "outputs": [],
   "source": [
    "%matplotlib inline\n",
    "\n",
    "import ROOT, sys, os\n",
    "from ROOT import std\n",
    "\n",
    "from larcv import larcv\n",
    "from larlite import larlite as ll\n",
    "from larlite import larutil as lu\n",
    "\n",
    "import numpy as np\n",
    "import matplotlib\n",
    "import matplotlib.pyplot as plt\n",
    "import matplotlib.path as path\n",
    "import matplotlib.patches as patches\n",
    "\n",
    "from ROOT import geo2d,cv\n",
    "from ROOT.cv import Point_ as Vector\n",
    "DTYPE='float'\n",
    "\n",
    "import root_numpy as rn\n",
    "import pandas as pd\n",
    "\n",
    "geoh=lu.GeometryHelper.GetME()\n",
    "geo=lu.Geometry.GetME()\n",
    "larp=lu.LArProperties.GetME()\n",
    "pygeo = geo2d.PyDraw()\n",
    "\n",
    "matplotlib.rcParams['font.size']=20\n",
    "matplotlib.rcParams['font.family']='serif'"
   ]
  },
  {
   "cell_type": "code",
   "execution_count": null,
   "metadata": {
    "collapsed": false
   },
   "outputs": [],
   "source": [
    "INFILE=\"../numu_ccqe_p00_p07_rad6_sig_bak_00430_00645.root\"\n",
    "\n",
    "reco_event_df = pd.DataFrame(rn.root2array(INFILE,treename='EventTree'))\n",
    "reco_event_df = reco_event_df.drop_duplicates(subset=['run','subrun','event'])\n",
    "\n",
    "reco_vtx3d_df = pd.DataFrame(rn.root2array(INFILE,treename='Vtx3DTree'))\n",
    "reco_vtx3d_df = reco_vtx3d_df.drop_duplicates(subset=['run','subrun','event','vtx3d_id'])\n",
    "\n",
    "reco_particle_df = pd.DataFrame(rn.root2array(INFILE,treename='ParticleTree'))\n",
    "reco_particle_df = reco_particle_df.drop_duplicates(subset=['run','subrun','event','vtx3d_id','plane_id'])\n",
    "\n",
    "mc_df = pd.DataFrame(rn.root2array(INFILE,treename='mctree'))\n",
    "mc_df = mc_df.drop_duplicates(subset=['run','subrun','event'])\n",
    "\n",
    "signal_mc_df = mc_df[mc_df.signal==1].copy().reindex()\n",
    "back_mc_df   = mc_df[mc_df.signal==0].copy().reindex()"
   ]
  },
  {
   "cell_type": "code",
   "execution_count": null,
   "metadata": {
    "collapsed": true
   },
   "outputs": [],
   "source": [
    "# check if there is a good vertex or not\n",
    "def correct(reco_vtx3d_,group_,chosen_idx_):\n",
    "\n",
    "    ### use projected vertex\n",
    "    \n",
    "    # recox = reco_vtx3d_.vtx2d_x_v.values[chosen_idx_]\n",
    "    # recoy = reco_vtx3d_.vtx2d_y_v.values[chosen_idx_]\n",
    "\n",
    "    ### use circle vertex\n",
    "    \n",
    "    recox = reco_vtx3d_.circle_vtx_x_v.values[chosen_idx_]\n",
    "    recoy = reco_vtx3d_.circle_vtx_y_v.values[chosen_idx_]\n",
    "    \n",
    "    mcx = group_.vtx2d_t.values[0]\n",
    "    mcy = group_.vtx2d_w.values[0]\n",
    "    \n",
    "    dist=np.sqrt(np.power(recox-mcx,2)+np.power(recoy-mcy,2))\n",
    "\n",
    "    dist.sort()\n",
    "\n",
    "    dist0_b = False\n",
    "    dist1_b = False\n",
    "    \n",
    "    if dist[0] <=7 : dist0_b = True\n",
    "    if dist[1] <=7 : dist1_b = True\n",
    "    \n",
    "    return (dist0_b==True and dist1_b==True)\n",
    "    \n",
    "\n",
    "def do_selection(mc_sdf,reco_event_df,reco_vtx3d_df):\n",
    "\n",
    "    selected = []\n",
    "\n",
    "    mc_gdf  = mc_sdf.set_index(['run','subrun','event'])\n",
    "    groups_ = mc_gdf.groupby(mc_gdf.index)\n",
    "    \n",
    "    for name, group in groups_:\n",
    "\n",
    "        nvtx_b  = False\n",
    "        close_b = False\n",
    "\n",
    "        query_='run=={}&subrun=={}&event=={}'.format(name[0],name[1],name[2])\n",
    "        \n",
    "        reco_event = reco_event_df.query(query_)\n",
    "\n",
    "        if reco_event.n_vtx3d.values > 0: \n",
    "            nvtx_b = True\n",
    "        \n",
    "        if nvtx_b == False: \n",
    "            continue\n",
    "            \n",
    "        reco_vtx3d = reco_vtx3d_df.query(query_)\n",
    "\n",
    "        if ( reco_event.n_vtx3d.values != reco_vtx3d.vtx3d_id.size ):\n",
    "            pass\n",
    "            # print query_\n",
    "\n",
    "        good_reco = False\n",
    "        for idx_ in xrange(reco_event.n_vtx3d):\n",
    "\n",
    "            if good_reco==True : break\n",
    "            good_reco = correct(reco_vtx3d,group,idx_)\n",
    "\n",
    "        if good_reco==True: \n",
    "            close_b=True\n",
    "\n",
    "        if nvtx_b==True and close_b==True:\n",
    "            selected.append(mc_sdf.query(query_).index.values[0])\n",
    "\n",
    "    return np.array(selected)"
   ]
  },
  {
   "cell_type": "markdown",
   "metadata": {},
   "source": [
    "# Reconstruction Efficiency on Signal"
   ]
  },
  {
   "cell_type": "code",
   "execution_count": null,
   "metadata": {
    "collapsed": false
   },
   "outputs": [],
   "source": [
    "mc_df=signal_mc_df\n",
    "#mc_df=back_mc_df\n",
    "n_reco_v = do_selection(mc_df,reco_event_df,reco_vtx3d_df)\n",
    "print \"Reco Efficiency is \", n_reco_v.size,\"/\",mc_df.index.size,\"= \",float(n_reco_v.size)/float(mc_df.index.size)\n",
    "print n_reco_v"
   ]
  },
  {
   "cell_type": "code",
   "execution_count": null,
   "metadata": {
    "collapsed": false
   },
   "outputs": [],
   "source": [
    "# Index by run,subrun,event\n",
    "index_=['run','subrun','event']\n",
    "\n",
    "#Signal dataframes\n",
    "sig_event_df    = reco_event_df.copy()\n",
    "sig_vtx3d_df    = reco_vtx3d_df.copy()\n",
    "sig_particle_df = reco_particle_df.copy()\n",
    "\n",
    "sig_mc_df       = signal_mc_df.set_index(index_)\n",
    "sig_event_df    = sig_event_df.set_index(index_)\n",
    "sig_vtx3d_df    = sig_vtx3d_df.set_index(index_)\n",
    "sig_particle_df = sig_particle_df.set_index(index_)\n",
    "\n",
    "sig_event_df    = sig_event_df.ix[sig_mc_df.index]\n",
    "sig_vtx3d_df    = sig_vtx3d_df.ix[sig_mc_df.index]\n",
    "sig_particle_df = sig_particle_df.ix[sig_mc_df.index]\n",
    "\n",
    "#Background dataframes\n",
    "bak_event_df    = reco_event_df.copy()\n",
    "bak_vtx3d_df    = reco_vtx3d_df.copy()\n",
    "bak_particle_df = reco_particle_df.copy()\n",
    "\n",
    "bak_mc_df       = back_mc_df.set_index(index_)\n",
    "bak_event_df    = bak_event_df.set_index(index_)\n",
    "bak_vtx3d_df    = bak_vtx3d_df.set_index(index_)\n",
    "bak_particle_df = bak_particle_df.set_index(index_)\n",
    "\n",
    "bak_event_df    = bak_event_df.ix[sig_mc_df.index]\n",
    "bak_vtx3d_df    = bak_vtx3d_df.ix[sig_mc_df.index]\n",
    "bak_particle_df = bak_particle_df.ix[sig_mc_df.index]"
   ]
  },
  {
   "cell_type": "code",
   "execution_count": null,
   "metadata": {
    "collapsed": false
   },
   "outputs": [],
   "source": [
    "bins=np.arange(0,1000,100)\n",
    "plt.hist(bak_mc_df.energyInit,bins=bins)\n",
    "plt.hist(sig_mc_df.energyInit,bins=bins)\n",
    "plt.show()"
   ]
  },
  {
   "cell_type": "code",
   "execution_count": null,
   "metadata": {
    "collapsed": true
   },
   "outputs": [],
   "source": []
  }
 ],
 "metadata": {
  "kernelspec": {
   "display_name": "Python 2",
   "language": "python",
   "name": "python2"
  },
  "language_info": {
   "codemirror_mode": {
    "name": "ipython",
    "version": 2
   },
   "file_extension": ".py",
   "mimetype": "text/x-python",
   "name": "python",
   "nbconvert_exporter": "python",
   "pygments_lexer": "ipython2",
   "version": "2.7.10"
  }
 },
 "nbformat": 4,
 "nbformat_minor": 0
}
